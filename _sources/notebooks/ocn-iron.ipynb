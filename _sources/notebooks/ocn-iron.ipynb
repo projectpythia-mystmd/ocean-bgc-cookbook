{
 "cells": [
  {
   "cell_type": "markdown",
   "id": "b32e55d3-d037-40b9-96ac-b2ff03536e23",
   "metadata": {},
   "source": [
    "# Ocean iron concentration"
   ]
  },
  {
   "cell_type": "markdown",
   "id": "c27792fd-53f6-4f6b-b6db-c38929adc078",
   "metadata": {},
   "source": [
    "---"
   ]
  },
  {
   "cell_type": "markdown",
   "id": "889d626f-945c-495b-9263-e5b9a151524d",
   "metadata": {},
   "source": [
    "## Overview\n",
    "Iron is one of the most important micronutrients in the ocean, limiting production in some areas. In this notebook, we make a map of iron concentration and compare it to observational data.\n",
    "\n",
    "1. General setup\n",
    "2. Subsetting\n",
    "3. Processing - long-term mean\n",
    "4. Comparing to observational data\n",
    "   "
   ]
  },
  {
   "cell_type": "markdown",
   "id": "f28d6ddc-db1a-481f-b15e-09ad289958db",
   "metadata": {},
   "source": [
    "## Prerequisites\n",
    "\n",
    "| Concepts | Importance | Notes |\n",
    "| --- | --- | --- |\n",
    "| [Matplotlib](https://foundations.projectpythia.org/core/matplotlib.html) | Necessary | |\n",
    "| [Intro to Cartopy](https://foundations.projectpythia.org/core/cartopy/cartopy.html) | Necessary | |\n",
    "| [Dask Cookbook](https://projectpythia.org/dask-cookbook/README.html) | Helpful | |\n",
    "| [Intro to Xarray](https://foundations.projectpythia.org/core/xarray.html) | Helpful | |\n",
    "\n",
    "- **Time to learn**: 15 min\n"
   ]
  },
  {
   "cell_type": "markdown",
   "id": "03e877e4-e920-4e8a-ac67-d1e2aa317388",
   "metadata": {},
   "source": [
    "---"
   ]
  },
  {
   "cell_type": "markdown",
   "id": "6d731017-c680-4a3d-8258-ee0bd8a53c60",
   "metadata": {},
   "source": [
    "## Imports"
   ]
  },
  {
   "cell_type": "code",
   "execution_count": null,
   "id": "0f30282e-2b0e-47d7-8702-baa7a7e071cb",
   "metadata": {},
   "outputs": [],
   "source": [
    "import xarray as xr\n",
    "import glob\n",
    "import numpy as np\n",
    "import matplotlib.pyplot as plt\n",
    "import cartopy\n",
    "import cartopy.crs as ccrs\n",
    "import pop_tools\n",
    "from dask.distributed import LocalCluster\n",
    "import pandas as pd\n",
    "import s3fs\n",
    "import netCDF4\n",
    "\n",
    "from module import adjust_pop_grid"
   ]
  },
  {
   "cell_type": "markdown",
   "id": "42a65463-71d0-459a-8c63-ab099821cf5a",
   "metadata": {},
   "source": [
    "## General setup (see intro notebooks for explanations)"
   ]
  },
  {
   "cell_type": "markdown",
   "id": "e32e1025-287e-47dd-a41d-c04b6f0c7cab",
   "metadata": {},
   "source": [
    "### Connect to cluster"
   ]
  },
  {
   "cell_type": "code",
   "execution_count": null,
   "id": "f78f2e20-0b51-4cde-b38d-277a89380426",
   "metadata": {},
   "outputs": [],
   "source": [
    "cluster = LocalCluster()\n",
    "client = cluster.get_client()"
   ]
  },
  {
   "cell_type": "markdown",
   "id": "d29bc953-5c0a-498c-a392-cd4c24537c7b",
   "metadata": {},
   "source": [
    "### Bring in POP grid utilities"
   ]
  },
  {
   "cell_type": "code",
   "execution_count": null,
   "id": "3be7b8d9-7ac3-4a13-bc86-a5dc9b770969",
   "metadata": {},
   "outputs": [],
   "source": [
    "ds_grid = pop_tools.get_grid('POP_gx1v7')\n",
    "lons = ds_grid.TLONG\n",
    "lats = ds_grid.TLAT\n",
    "depths = ds_grid.z_t * 0.01"
   ]
  },
  {
   "cell_type": "markdown",
   "id": "3630bab7-a9ea-4433-9eb8-f8555cab07bd",
   "metadata": {},
   "source": [
    "### Load the data"
   ]
  },
  {
   "cell_type": "code",
   "execution_count": null,
   "id": "bd34d3e4-a635-4905-b359-6da859ff3a4a",
   "metadata": {},
   "outputs": [],
   "source": [
    "jetstream_url = 'https://js2.jetstream-cloud.org:8001/'\n",
    "\n",
    "s3 = s3fs.S3FileSystem(anon=True, client_kwargs=dict(endpoint_url=jetstream_url))\n",
    "\n",
    "# Generate a list of all files in CESM folder\n",
    "s3path = 's3://pythia/ocean-bgc/cesm/g.e22.GOMIPECOIAF_JRA-1p4-2018.TL319_g17.4p2z.002branch/ocn/proc/tseries/month_1/*'\n",
    "remote_files = s3.glob(s3path)\n",
    "\n",
    "# Open all files from folder\n",
    "fileset = [s3.open(file) for file in remote_files]\n",
    "\n",
    "# Open with xarray\n",
    "ds = xr.open_mfdataset(fileset, data_vars=\"minimal\", coords='minimal', compat=\"override\", parallel=True,\n",
    "                       drop_variables=[\"transport_components\", \"transport_regions\", 'moc_components'], decode_times=True)\n",
    "\n",
    "ds"
   ]
  },
  {
   "cell_type": "markdown",
   "id": "6359ebb8-a3ff-4929-8970-3b2bbc74a48a",
   "metadata": {},
   "source": [
    "## Subsetting"
   ]
  },
  {
   "cell_type": "code",
   "execution_count": null,
   "id": "ea5e9150-4e80-45a2-a5b6-a8b6a474cf72",
   "metadata": {},
   "outputs": [],
   "source": [
    "variables =['Fe']"
   ]
  },
  {
   "cell_type": "code",
   "execution_count": null,
   "id": "a63a74ea-ac56-4034-aeaa-f648909fe59a",
   "metadata": {},
   "outputs": [],
   "source": [
    "keep_vars=['z_t','z_t_150m','dz','time_bound', 'time','TAREA','TLAT','TLONG'] + variables\n",
    "ds = ds.drop_vars([v for v in ds.variables if v not in keep_vars])"
   ]
  },
  {
   "cell_type": "code",
   "execution_count": null,
   "id": "4321e1ec-03e1-45d6-bb0b-16fdcaa17ca3",
   "metadata": {},
   "outputs": [],
   "source": [
    "ds.Fe.isel(time=0,z_t=0).plot()"
   ]
  },
  {
   "cell_type": "markdown",
   "id": "5e3e1e23-3443-419f-b724-2f0ef79a9087",
   "metadata": {},
   "source": [
    "## Processing - long-term mean"
   ]
  },
  {
   "cell_type": "markdown",
   "id": "b461afc6-6894-4c53-8eae-a866ba3d8924",
   "metadata": {},
   "source": [
    "Pull in the function we defined in the nutrients notebook..."
   ]
  },
  {
   "cell_type": "code",
   "execution_count": null,
   "id": "7095de43-f488-4629-8da2-e15abce961a0",
   "metadata": {},
   "outputs": [],
   "source": [
    "def year_mean(ds):\n",
    "    \"\"\"\n",
    "    Properly convert monthly data to annual means, taking into account month lengths.\n",
    "    Source: https://ncar.github.io/esds/posts/2021/yearly-averages-xarray/\n",
    "    \"\"\"\n",
    "    \n",
    "    # Make a DataArray with the number of days in each month, size = len(time)\n",
    "    month_length = ds.time.dt.days_in_month\n",
    "\n",
    "    # Calculate the weights by grouping by 'time.year'\n",
    "    weights = (\n",
    "        month_length.groupby(\"time.year\") / month_length.groupby(\"time.year\").sum()\n",
    "    )\n",
    "\n",
    "    # Test that the sum of the year for each season is 1.0\n",
    "    np.testing.assert_allclose(weights.groupby(\"time.year\").sum().values, np.ones((len(ds.groupby(\"time.year\")), )))\n",
    "\n",
    "    # Calculate the weighted average\n",
    "    return (ds * weights).groupby(\"time.year\").sum(dim=\"time\")\n",
    "    "
   ]
  },
  {
   "cell_type": "markdown",
   "id": "089cc262-253d-44f2-a71c-96c4a8ff0954",
   "metadata": {
    "jp-MarkdownHeadingCollapsed": true
   },
   "source": [
    "Take the long-term mean of our data set. We process monthly to annual data with our custom function, then use xarray's built-in `.mean()` function to process from annual data to a single mean over time, since each year is the same length."
   ]
  },
  {
   "cell_type": "code",
   "execution_count": null,
   "id": "54a768da-510b-4591-a20a-d8524ec5e97c",
   "metadata": {},
   "outputs": [],
   "source": [
    "ds = year_mean(ds).mean(\"year\")"
   ]
  },
  {
   "cell_type": "code",
   "execution_count": null,
   "id": "044ce3e1-394d-471a-a8e6-5e99ce72f087",
   "metadata": {},
   "outputs": [],
   "source": [
    "nmolcm3_to_nM = 1.e3\n",
    "ds['Fe'] = ds['Fe'] * nmolcm3_to_nM\n",
    "ds['Fe'].attrs['units'] = 'nM'"
   ]
  },
  {
   "cell_type": "markdown",
   "id": "b741fef7-406c-4186-bf26-479c03ca8fae",
   "metadata": {
    "editable": true,
    "slideshow": {
     "slide_type": ""
    },
    "tags": []
   },
   "source": [
    "## Compare to observational Fe database\n",
    "\n",
    "This dataset includes observations from the following papers:\n",
    "- [Schlitzer et al., 2018](https://doi.org/10.1016/j.chemgeo.2018.05.040)\n",
    "- [Moore and Braucher, 2008](https://doi.org/10.5194/bg-5-631-2008)\n",
    "- [Tagliabue et al., 2012](https://doi.org/10.5194/bg-9-2333-2012)\n",
    "\n",
    "as collected by [Long et al., 2021](https://doi.org/10.1029/2021MS002647) -- see this paper for details."
   ]
  },
  {
   "cell_type": "code",
   "execution_count": null,
   "id": "f7d11915-3fe0-4037-8cba-cce3929cb7c9",
   "metadata": {},
   "outputs": [],
   "source": [
    "fe_obs_path = 's3://pythia/ocean-bgc/obs/dFe-database-2021-05-20.csv'\n",
    "\n",
    "fe_obs = s3.open(fe_obs_path)\n",
    "\n",
    "df = pd.read_csv(fe_obs, na_values=-999.).dropna(axis=0, how='all')\n",
    "\n",
    "df"
   ]
  },
  {
   "cell_type": "code",
   "execution_count": null,
   "id": "a7d1051a-c2be-4e42-835b-b3634e7bf10e",
   "metadata": {},
   "outputs": [],
   "source": [
    "fig = plt.figure(figsize=(16,5))\n",
    "\n",
    "fig.suptitle(\"Surface iron concentration comparison\")\n",
    "\n",
    "### CESM\n",
    "ax = fig.add_subplot(1,2,1, projection=ccrs.Robinson(central_longitude=305.0))\n",
    "lon, lat, field = adjust_pop_grid(lons, lats,  ds.Fe.isel(z_t=0))\n",
    "pc=ax.pcolormesh(lon, lat, field, cmap='plasma',vmin=0,vmax=3,transform=ccrs.PlateCarree())\n",
    "land = cartopy.feature.NaturalEarthFeature('physical', 'land', scale='110m', edgecolor='k', facecolor='white', linewidth=0.5)\n",
    "ax.add_feature(land)\n",
    "ax.set_title('CESM Fe at surface', fontsize=10)\n",
    "\n",
    "\n",
    "### obs\n",
    "ax = fig.add_subplot(1,2,2, projection=ccrs.Robinson(central_longitude=305.0))\n",
    "ax.coastlines('10m',linewidth=0.5)\n",
    "ax.set_title('Obs Fe at surface', fontsize=10)\n",
    "\n",
    "\n",
    "df_sub = df.loc[(df.depth <= 2.5)]\n",
    "sc = ax.scatter(df_sub.lon, df_sub.lat, c=df_sub.dFe_obs.values,\n",
    "                cmap='plasma',\n",
    "                vmin=0, vmax=3, \n",
    "                transform=ccrs.PlateCarree())\n",
    "\n",
    "fig.subplots_adjust(right=0.8)\n",
    "cbar_ax = fig.add_axes([0.85, 0.15, 0.02, 0.7])\n",
    "fig.colorbar(pc, cax=cbar_ax, label='Fe (nM)')\n",
    "\n"
   ]
  },
  {
   "cell_type": "markdown",
   "id": "1f65ccd9-bc93-45a2-9097-d07ed8e26129",
   "metadata": {},
   "source": [
    "And close the Dask cluster we spun up at the beginning."
   ]
  },
  {
   "cell_type": "code",
   "execution_count": null,
   "id": "0ec300cf-d53a-4abf-a590-7b90b044fcc8",
   "metadata": {},
   "outputs": [],
   "source": [
    "cluster.close()"
   ]
  },
  {
   "cell_type": "markdown",
   "id": "547b0aa9-c4ad-4846-ade8-83d2f712b0a8",
   "metadata": {},
   "source": [
    "---"
   ]
  },
  {
   "cell_type": "markdown",
   "id": "5adf06ae-45b3-41fb-bb44-a0e2d6be7eb7",
   "metadata": {
    "jp-MarkdownHeadingCollapsed": true
   },
   "source": [
    "## Summary\n",
    "You've learned how to make a map of ocean iron and compare it to observations."
   ]
  },
  {
   "cell_type": "markdown",
   "id": "21b71f55-07d0-4795-bfcf-df8b036e735c",
   "metadata": {
    "editable": true,
    "jp-MarkdownHeadingCollapsed": true,
    "slideshow": {
     "slide_type": ""
    },
    "tags": []
   },
   "source": [
    "## Resources and references\n",
    "- [Schlitzer et al., 2018](https://doi.org/10.1016/j.chemgeo.2018.05.040)\n",
    "- [Moore and Braucher, 2008](https://doi.org/10.5194/bg-5-631-2008)\n",
    "- [Tagliabue et al., 2012](https://doi.org/10.5194/bg-9-2333-2012)\n",
    "- [Long et al., 2021](https://doi.org/10.1029/2021MS002647)"
   ]
  }
 ],
 "metadata": {
  "language_info": {
   "name": "python"
  }
 },
 "nbformat": 4,
 "nbformat_minor": 5
}
