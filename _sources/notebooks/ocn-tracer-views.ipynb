{
 "cells": [
  {
   "cell_type": "markdown",
   "id": "b32e55d3-d037-40b9-96ac-b2ff03536e23",
   "metadata": {},
   "source": [
    "# Making a simple map of a variable"
   ]
  },
  {
   "cell_type": "markdown",
   "id": "1e953ff0-c35d-44a9-800d-3539acf5e511",
   "metadata": {},
   "source": [
    "---"
   ]
  },
  {
   "cell_type": "markdown",
   "id": "f7f4a89e-1822-49ee-8021-8c3ca004ff82",
   "metadata": {},
   "source": [
    "## Overview\n",
    "Take the data we read in in the previous notebook, and learn how to make a simple map of a few different variables.\n",
    "\n",
    "1. Spin up a Dask cluster and load the data\n",
    "2. Super quick plot\n",
    "3. Two nicer plots on a map projection"
   ]
  },
  {
   "cell_type": "markdown",
   "id": "68383f38-a34f-4a17-a3f3-a6429bfab637",
   "metadata": {},
   "source": [
    "## Prerequisites\n",
    "\n",
    "| Concepts | Importance | Notes |\n",
    "| --- | --- | --- |\n",
    "| [Matplotlib](https://foundations.projectpythia.org/core/matplotlib.html) | Necessary | |\n",
    "| [Intro to Cartopy](https://foundations.projectpythia.org/core/cartopy/cartopy.html) | Necessary | |\n",
    "| [Dask Cookbook](https://projectpythia.org/dask-cookbook/README.html) | Helpful | |\n",
    "| [Intro to Xarray](https://foundations.projectpythia.org/core/xarray.html) | Helpful | |\n",
    "\n",
    "\n",
    "- **Time to learn**: 10 min\n"
   ]
  },
  {
   "cell_type": "markdown",
   "id": "5aa91349-7beb-4144-a222-3cef4842a8d5",
   "metadata": {},
   "source": [
    "---"
   ]
  },
  {
   "cell_type": "markdown",
   "id": "db79f1e9-6cee-45b7-ae0e-d4c05b8eba49",
   "metadata": {},
   "source": [
    "## Imports"
   ]
  },
  {
   "cell_type": "code",
   "execution_count": null,
   "id": "e8199a6d-1b51-453e-a34c-45ed5f88c59f",
   "metadata": {},
   "outputs": [],
   "source": [
    "import xarray as xr\n",
    "from dask.distributed import LocalCluster\n",
    "import glob\n",
    "import numpy as np\n",
    "import matplotlib.pyplot as plt\n",
    "import cartopy\n",
    "import cartopy.crs as ccrs\n",
    "import pop_tools\n",
    "import s3fs\n",
    "import netCDF4\n",
    "\n",
    "from module import adjust_pop_grid\n",
    "from display_source import display_source"
   ]
  },
  {
   "cell_type": "markdown",
   "id": "c16bafad-005f-498f-b087-d8808166d618",
   "metadata": {},
   "source": [
    "## Connect to cluster"
   ]
  },
  {
   "cell_type": "markdown",
   "id": "8109adf1-0545-4897-9db3-0f9ea06d085e",
   "metadata": {},
   "source": [
    "Since we're doing a little more processing in this notebook, we spin up a local Dask cluster. See the [Dask Cookbook](https://projectpythia.org/dask-cookbook/README.html) or [Dask tutorial](https://tutorial.dask.org/) to learn more about this!"
   ]
  },
  {
   "cell_type": "code",
   "execution_count": null,
   "id": "586384b0-ec2e-4751-aeb0-5e930119a2ca",
   "metadata": {},
   "outputs": [],
   "source": [
    "cluster = LocalCluster()\n",
    "client = cluster.get_client()"
   ]
  },
  {
   "cell_type": "markdown",
   "id": "f0bb8152-4d90-489c-bfdb-636e41b82c00",
   "metadata": {},
   "source": [
    "## Load the data"
   ]
  },
  {
   "cell_type": "code",
   "execution_count": null,
   "id": "075a5fce-0bed-4631-a12c-8bbced5edeb5",
   "metadata": {},
   "outputs": [],
   "source": [
    "jetstream_url = 'https://js2.jetstream-cloud.org:8001/'\n",
    "\n",
    "s3 = s3fs.S3FileSystem(anon=True, client_kwargs=dict(endpoint_url=jetstream_url))\n",
    "\n",
    "# Generate a list of all files in CESM folder\n",
    "s3path = 's3://pythia/ocean-bgc/cesm/g.e22.GOMIPECOIAF_JRA-1p4-2018.TL319_g17.4p2z.002branch/ocn/proc/tseries/month_1/*'\n",
    "remote_files = s3.glob(s3path)\n",
    "\n",
    "# Open all files from folder\n",
    "fileset = [s3.open(file) for file in remote_files]\n",
    "\n",
    "# Open with xarray\n",
    "ds = xr.open_mfdataset(fileset, data_vars=\"minimal\", coords='minimal', compat=\"override\", parallel=True,\n",
    "                       drop_variables=[\"transport_components\", \"transport_regions\", 'moc_components'], decode_times=True)\n",
    "\n",
    "ds"
   ]
  },
  {
   "cell_type": "markdown",
   "id": "78710b26-4b5a-409e-a8d1-8a965f2f17c6",
   "metadata": {},
   "source": [
    "## Super quick plot"
   ]
  },
  {
   "cell_type": "markdown",
   "id": "5255be1f-fbb2-4b17-a136-1378685fd02d",
   "metadata": {},
   "source": [
    "We use xarray's `isel()` (select by index) function to grab the first entry in time and vertical coordinate available in our data set. Note that our dataset has some metadata associated with it, so xarray knows that the units are in degrees Celsius without us manually specifying. Xarray's `plot()` function is great for looking at data quickly to make sure things look right before diving into more involved analysis or plotting.\n",
    "\n",
    "We arbitrarily choose to plot temperature, but there are lots of options for variables to plot!"
   ]
  },
  {
   "cell_type": "code",
   "execution_count": null,
   "id": "044ce3e1-394d-471a-a8e6-5e99ce72f087",
   "metadata": {},
   "outputs": [],
   "source": [
    "ds[\"TEMP\"].isel(time=0, z_t=0).plot()"
   ]
  },
  {
   "cell_type": "markdown",
   "id": "1f31f792-bad2-43c3-af22-390699ed19ff",
   "metadata": {},
   "source": [
    "## Making a plot on a nicer map projection"
   ]
  },
  {
   "cell_type": "markdown",
   "id": "16db0ee0-87ac-445a-a509-8739ddf56b10",
   "metadata": {},
   "source": [
    "### Bringing in some POP grid tools\n",
    "This version of CESM uses [POP2](https://www.cesm.ucar.edu/models/pop) (the Parallel Ocean Program) as its ocean model. All of the ocean variable output is on the POP grid, which requires some extra wrangling to get it to work properly with standard mapping utilities."
   ]
  },
  {
   "cell_type": "code",
   "execution_count": null,
   "id": "85e11808-00c1-459f-90a7-767de2540c24",
   "metadata": {},
   "outputs": [],
   "source": [
    "ds_grid = pop_tools.get_grid('POP_gx1v7')\n",
    "lons = ds_grid.TLONG\n",
    "lats = ds_grid.TLAT\n",
    "depths = ds_grid.z_t * 0.01"
   ]
  },
  {
   "cell_type": "markdown",
   "id": "942a5835",
   "metadata": {},
   "source": [
    "In this Cookbook, we have written a function for adjusting the POP2 grid. For better code reuse, we have moved this code into a module called `module.py` that is imported into every notebook within this Cookbook. The content of `module.py` is:\n"
   ]
  },
  {
   "cell_type": "code",
   "execution_count": null,
   "id": "3c880d18",
   "metadata": {},
   "outputs": [],
   "source": [
    "display_source(adjust_pop_grid)"
   ]
  },
  {
   "cell_type": "markdown",
   "id": "651ffb30-ed7a-40be-b182-5f0faac839fb",
   "metadata": {},
   "source": [
    "### Making the map"
   ]
  },
  {
   "cell_type": "code",
   "execution_count": null,
   "id": "bff8e04c-c929-4159-8c04-208cad7285d6",
   "metadata": {},
   "outputs": [],
   "source": [
    "fig = plt.figure(figsize=(8,6))\n",
    "ax = fig.add_subplot(1,1,1, projection=ccrs.Robinson(central_longitude=305.0))\n",
    "\n",
    "# Using the utilities we added above to process our data, and plotting it\n",
    "lon, lat, field = adjust_pop_grid(lons, lats, ds[\"TEMP\"].isel(time=0, z_t=0))\n",
    "pc1=ax.pcolormesh(lon, lat,field, cmap='plasma',\n",
    "                  vmin=0, vmax=30,\n",
    "                 transform=ccrs.PlateCarree())\n",
    "\n",
    "# Adding the land features\n",
    "land = cartopy.feature.NaturalEarthFeature('physical', 'land', scale='110m', edgecolor='k', facecolor='white', linewidth=0.5)\n",
    "ax.add_feature(land)\n",
    "\n",
    "# Adding colorbar and title\n",
    "cbar1 = fig.colorbar(pc1, ax=ax,extend='max',label=ds[\"TEMP\"].units)\n",
    "ax.set_title('CESM Surface Temperature', fontsize=10)\n",
    "\n",
    "plt.show()"
   ]
  },
  {
   "cell_type": "markdown",
   "id": "b5f8f927-62a8-44cb-9dc9-00d41cca45e3",
   "metadata": {},
   "source": [
    "Let's try the same thing with another variable, salinity (`SALT`). We replace which variable we're extracting from `ds` in the `adjust_pop_grid()` function, where we preprocess the data. If you're trying this on your own, some other good ones to try looking at are dissolved inorganic carbon (`DIC`), oxygen (`O2`), or pH (`PH`)."
   ]
  },
  {
   "cell_type": "code",
   "execution_count": null,
   "id": "7956de1e-769a-4376-b9b3-fab918f514b7",
   "metadata": {},
   "outputs": [],
   "source": [
    "fig = plt.figure(figsize=(8,6))\n",
    "ax = fig.add_subplot(1,1,1, projection=ccrs.Robinson(central_longitude=305.0))\n",
    "\n",
    "# Using the utilities we added above to process our data, and plotting it\n",
    "lon, lat, field = adjust_pop_grid(lons, lats, ds['SALT'].isel(time=0, z_t=0))\n",
    "\n",
    "# Pick a different colorscheme from the plot above so we can distinguish them more easily\n",
    "pc1=ax.pcolormesh(lon, lat,field, cmap='cividis',\n",
    "                  vmin=32, vmax=38,\n",
    "                 transform=ccrs.PlateCarree())\n",
    "\n",
    "# Adding the land features\n",
    "land = cartopy.feature.NaturalEarthFeature('physical', 'land', scale='110m', edgecolor='k', facecolor='white', linewidth=0.5)\n",
    "ax.add_feature(land)\n",
    "\n",
    "# Adding colorbar and title\n",
    "cbar1 = fig.colorbar(pc1, ax=ax,extend='both',label=ds[\"SALT\"].units)\n",
    "ax.set_title('CESM Surface Salinity', fontsize=10)\n",
    "\n",
    "plt.show()"
   ]
  },
  {
   "cell_type": "markdown",
   "id": "b9167c84-45e5-4ce7-ab5f-81b45f9347bd",
   "metadata": {},
   "source": [
    "Close the Dask cluster we spun up at the beginning."
   ]
  },
  {
   "cell_type": "code",
   "execution_count": null,
   "id": "0ec83c25-ddef-41f1-88c0-fad12a6bca43",
   "metadata": {},
   "outputs": [],
   "source": [
    "cluster.close()"
   ]
  },
  {
   "cell_type": "markdown",
   "id": "405c86ee-cf37-45ea-82e8-05a032b33807",
   "metadata": {},
   "source": [
    "---"
   ]
  },
  {
   "cell_type": "markdown",
   "id": "0cf6dfa8-0514-48fc-b86d-926c65c92ffd",
   "metadata": {},
   "source": [
    "## Summary\n",
    "You've learned how to make simple plots of CESM output."
   ]
  },
  {
   "cell_type": "markdown",
   "id": "673cb913-4c3f-43b8-abc3-d34ca6c215a1",
   "metadata": {},
   "source": [
    "## Resources and references\n",
    "\n",
    "- [Dask tutorial](https://tutorial.dask.org/)"
   ]
  }
 ],
 "metadata": {
  "kernelspec": {
   "display_name": "ocean-bgc-cookbook-dev",
   "language": "python",
   "name": "python3"
  },
  "language_info": {
   "codemirror_mode": {
    "name": "ipython",
    "version": 3
   },
   "file_extension": ".py",
   "mimetype": "text/x-python",
   "name": "python",
   "nbconvert_exporter": "python",
   "pygments_lexer": "ipython3",
   "version": "3.12.4"
  }
 },
 "nbformat": 4,
 "nbformat_minor": 5
}
