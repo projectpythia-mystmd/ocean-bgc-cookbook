{
 "cells": [
  {
   "cell_type": "markdown",
   "id": "b32e55d3-d037-40b9-96ac-b2ff03536e23",
   "metadata": {},
   "source": [
    "# Phytoplankton biomass\n",
    "<div>\n",
    "<img src=\"https://img.pagecloud.com/nXOUkUjhhkla7tj6dosu06sE0-I=/1398x0/filters:no_upscale()/scientific-illustrations-by-kristen/images/cocco_in_blue_v2-lc467.png\" width=\"500\"/>\n",
    "</div>\n",
    "\n",
    "A coccolithophore, a type of phytoplankton. Art credit: [Kristen Krumhardt](https://kristenkrumhardtart.com/)"
   ]
  },
  {
   "cell_type": "markdown",
   "id": "0b7cc54c-1f27-4456-a2e5-6261ddb98446",
   "metadata": {},
   "source": [
    "---"
   ]
  },
  {
   "cell_type": "markdown",
   "id": "daee3cf6-5d53-48df-8480-b14267744df7",
   "metadata": {
    "editable": true,
    "slideshow": {
     "slide_type": ""
    },
    "tags": []
   },
   "source": [
    "## Overview\n",
    "Phytoplankton are single-celled, photosynthesizing organisms found throughout the global ocean. Though there are many different species of phytoplankton, CESM-MARBL groups them into four categories called functional types: small phytoplankton, diatoms (which build silica-based shells), coccolithophores (which build calcium carbonate-based shells), and diazotrophs (which fix nitrogen). In this notebook, we evaluate the biomass and total production of these phytoplankton in different areas, as modeled by CESM-MARBL.\n",
    "\n",
    "1. General setup\n",
    "2. Subsetting\n",
    "3. Taking a quick look\n",
    "4. Processing - long-term mean\n",
    "5. Mapping biomass at different depths\n",
    "6. Mapping productivity\n",
    "7. Compare NPP to satellite observations\n",
    "   "
   ]
  },
  {
   "cell_type": "markdown",
   "id": "5dabc40b-79af-474b-9d53-2f8b6e251083",
   "metadata": {},
   "source": [
    "## Prerequisites\n",
    "\n",
    "| Concepts | Importance | Notes |\n",
    "| --- | --- | --- |\n",
    "| [Matplotlib](https://foundations.projectpythia.org/core/matplotlib.html) | Necessary | |\n",
    "| [Intro to Cartopy](https://foundations.projectpythia.org/core/cartopy/cartopy.html) | Necessary | |\n",
    "| [Dask Cookbook](https://projectpythia.org/dask-cookbook/README.html) | Helpful | |\n",
    "| [Intro to Xarray](https://foundations.projectpythia.org/core/xarray.html) | Helpful | |\n",
    "\n",
    "- **Time to learn**: 30 min\n"
   ]
  },
  {
   "cell_type": "markdown",
   "id": "3c6b4402-33c1-4afe-a9cf-bdab8ab5af92",
   "metadata": {},
   "source": [
    "---"
   ]
  },
  {
   "cell_type": "markdown",
   "id": "755a6578-d33d-4cb4-9624-b05a13a70eea",
   "metadata": {},
   "source": [
    "## Imports"
   ]
  },
  {
   "cell_type": "code",
   "execution_count": null,
   "id": "93a539e2-d8dd-4843-a8d3-3742f66417e6",
   "metadata": {},
   "outputs": [],
   "source": [
    "import xarray as xr\n",
    "import glob\n",
    "import numpy as np\n",
    "import matplotlib.pyplot as plt\n",
    "import cartopy\n",
    "import cartopy.crs as ccrs\n",
    "import pop_tools\n",
    "from dask.distributed import LocalCluster\n",
    "import s3fs\n",
    "import netCDF4\n",
    "from datetime import datetime\n",
    "\n",
    "from module import adjust_pop_grid"
   ]
  },
  {
   "cell_type": "markdown",
   "id": "7e71e226-d769-49ea-b95c-dae9752415ad",
   "metadata": {},
   "source": [
    "## General setup (see intro notebooks for explanations)"
   ]
  },
  {
   "cell_type": "markdown",
   "id": "71b45667-a90a-4194-8f1c-58d7601b62b5",
   "metadata": {},
   "source": [
    "### Connect to cluster"
   ]
  },
  {
   "cell_type": "code",
   "execution_count": null,
   "id": "09a65e1e-3876-4ea3-952a-c588fa5f38ca",
   "metadata": {},
   "outputs": [],
   "source": [
    "cluster = LocalCluster()\n",
    "client = cluster.get_client()"
   ]
  },
  {
   "cell_type": "markdown",
   "id": "3a5e3453-1888-48e6-9789-87cd23305db6",
   "metadata": {},
   "source": [
    "### Bring in POP grid utilities"
   ]
  },
  {
   "cell_type": "code",
   "execution_count": null,
   "id": "a0157398-9042-4376-8548-8a12c275634f",
   "metadata": {},
   "outputs": [],
   "source": [
    "ds_grid = pop_tools.get_grid('POP_gx1v7')\n",
    "lons = ds_grid.TLONG\n",
    "lats = ds_grid.TLAT\n",
    "depths = ds_grid.z_t * 0.01"
   ]
  },
  {
   "cell_type": "markdown",
   "id": "e2eda11b-15e6-471f-8d09-e07f62a1710d",
   "metadata": {},
   "source": [
    "### Load the data"
   ]
  },
  {
   "cell_type": "code",
   "execution_count": null,
   "id": "2b09ff00-ddf4-4c76-9a0a-2be8c6b7a38a",
   "metadata": {},
   "outputs": [],
   "source": [
    "jetstream_url = 'https://js2.jetstream-cloud.org:8001/'\n",
    "\n",
    "s3 = s3fs.S3FileSystem(anon=True, client_kwargs=dict(endpoint_url=jetstream_url))\n",
    "\n",
    "# Generate a list of all files in CESM folder\n",
    "s3path = 's3://pythia/ocean-bgc/cesm/g.e22.GOMIPECOIAF_JRA-1p4-2018.TL319_g17.4p2z.002branch/ocn/proc/tseries/month_1/*'\n",
    "remote_files = s3.glob(s3path)\n",
    "\n",
    "# Open all files from folder\n",
    "fileset = [s3.open(file) for file in remote_files]\n",
    "\n",
    "# Open with xarray\n",
    "ds = xr.open_mfdataset(fileset, data_vars=\"minimal\", coords='minimal', compat=\"override\", parallel=True,\n",
    "                       drop_variables=[\"transport_components\", \"transport_regions\", 'moc_components'], decode_times=True)\n",
    "\n",
    "ds"
   ]
  },
  {
   "cell_type": "markdown",
   "id": "838cb3bb-cd65-460c-ac41-1c4b9994387f",
   "metadata": {},
   "source": [
    "## Subsetting"
   ]
  },
  {
   "cell_type": "code",
   "execution_count": null,
   "id": "64fddb9c-b692-42c1-b076-05a170edcb31",
   "metadata": {},
   "outputs": [],
   "source": [
    "variables =['diatC', 'coccoC','spC','diazC',\n",
    "            'photoC_TOT_zint',\n",
    "            'photoC_sp_zint','photoC_diat_zint',\n",
    "            'photoC_diaz_zint','photoC_cocco_zint']\n",
    "keep_vars=['z_t','z_t_150m','dz','time_bound', 'time', 'TAREA','TLAT','TLONG'] + variables\n",
    "ds = ds.drop_vars([v for v in ds.variables if v not in keep_vars])"
   ]
  },
  {
   "cell_type": "markdown",
   "id": "f48caa6b-cee5-4260-8401-ef4af6f64d69",
   "metadata": {},
   "source": [
    "## Taking a quick look\n",
    "\n",
    "Let's plot the biomass of coccolithophores as a first look. These plots show snapshots six months apart - note the difference between seasons! Also take a look at the increased concentrations of coccolithophores in the Southern Ocean during Southern-hemisphere summer; the increased concentrations of calcite caused by these plankton building calcite shells leads to this region being known as the [Great Calcite Belt](https://en.wikipedia.org/wiki/Great_Calcite_Belt)."
   ]
  },
  {
   "cell_type": "code",
   "execution_count": null,
   "id": "4321e1ec-03e1-45d6-bb0b-16fdcaa17ca3",
   "metadata": {},
   "outputs": [],
   "source": [
    "ds.coccoC.isel(time=0,z_t_150m=0).plot()"
   ]
  },
  {
   "cell_type": "code",
   "execution_count": null,
   "id": "c14e30d2-8d29-4bdc-a530-b6d07afe525f",
   "metadata": {},
   "outputs": [],
   "source": [
    "ds.coccoC.isel(time=6,z_t_150m=0).plot()"
   ]
  },
  {
   "cell_type": "markdown",
   "id": "674bbf53-101d-4867-9858-f13740b36da6",
   "metadata": {},
   "source": [
    "## Processing - long-term mean"
   ]
  },
  {
   "cell_type": "markdown",
   "id": "b78f8deb-5853-4fd8-9d5f-b3e7b382f164",
   "metadata": {},
   "source": [
    "Pull in the function we defined in the nutrients notebook..."
   ]
  },
  {
   "cell_type": "code",
   "execution_count": null,
   "id": "2807df0a-d1c9-4402-b334-9e652370e4f7",
   "metadata": {},
   "outputs": [],
   "source": [
    "def year_mean(ds):\n",
    "    \"\"\"\n",
    "    Properly convert monthly data to annual means, taking into account month lengths.\n",
    "    Source: https://ncar.github.io/esds/posts/2021/yearly-averages-xarray/\n",
    "    \"\"\"\n",
    "    \n",
    "    # Make a DataArray with the number of days in each month, size = len(time)\n",
    "    month_length = ds.time.dt.days_in_month\n",
    "\n",
    "    # Calculate the weights by grouping by 'time.year'\n",
    "    weights = (\n",
    "        month_length.groupby(\"time.year\") / month_length.groupby(\"time.year\").sum()\n",
    "    )\n",
    "\n",
    "    # Test that the sum of the year for each season is 1.0\n",
    "    np.testing.assert_allclose(weights.groupby(\"time.year\").sum().values, np.ones((len(ds.groupby(\"time.year\")), )))\n",
    "\n",
    "    # Calculate the weighted average\n",
    "    return (ds * weights).groupby(\"time.year\").sum(dim=\"time\")\n",
    "    "
   ]
  },
  {
   "cell_type": "markdown",
   "id": "342391fd-a0cb-42c3-bd17-3524907538e2",
   "metadata": {
    "jp-MarkdownHeadingCollapsed": true
   },
   "source": [
    "Take the long-term mean of our data set. We process monthly to annual with our custom function, then use xarray's built-in `.mean()` function to process from annual data to a single mean over time, since each year is the same length."
   ]
  },
  {
   "cell_type": "code",
   "execution_count": null,
   "id": "537638a5-9e92-44a2-90bc-b4f5be2980d0",
   "metadata": {},
   "outputs": [],
   "source": [
    "ds_ann = year_mean(ds)"
   ]
  },
  {
   "cell_type": "code",
   "execution_count": null,
   "id": "aaf119e8-cb90-4b80-8a38-5e5a46ccd3c3",
   "metadata": {},
   "outputs": [],
   "source": [
    "ds = ds_ann.mean(\"year\")"
   ]
  },
  {
   "cell_type": "code",
   "execution_count": null,
   "id": "044ce3e1-394d-471a-a8e6-5e99ce72f087",
   "metadata": {},
   "outputs": [],
   "source": [
    "ds['spC'].isel(z_t_150m=0).plot()"
   ]
  },
  {
   "cell_type": "markdown",
   "id": "a9e75c73-8bcf-459f-b017-736de91d88b3",
   "metadata": {},
   "source": [
    "## Mapping biomass at different depths\n",
    "Note the different colorbar scales on each of these maps!\n",
    "### Phytoplankton biomass at the surface"
   ]
  },
  {
   "cell_type": "code",
   "execution_count": null,
   "id": "bff8e04c-c929-4159-8c04-208cad7285d6",
   "metadata": {},
   "outputs": [],
   "source": [
    "###### \n",
    "fig = plt.figure(figsize=(8,10))\n",
    "\n",
    "ax = fig.add_subplot(4,1,1, projection=ccrs.Robinson(central_longitude=305.0))\n",
    "# spC stands for \"small phytoplankton carbon\"\n",
    "ax.set_title('spC at surface', fontsize=12)\n",
    "lon, lat, field = adjust_pop_grid(lons, lats,  ds.spC.isel(z_t_150m=0))\n",
    "pc=ax.pcolormesh(lon, lat, field, cmap='Greens',vmin=0,vmax=1,transform=ccrs.PlateCarree())\n",
    "cbar1 = fig.colorbar(pc, ax=ax,extend='max',label='spC (mmol m$^{-3}$)')\n",
    "land = cartopy.feature.NaturalEarthFeature('physical', 'land', scale='110m', edgecolor='k', facecolor='white', linewidth=0.5)\n",
    "ax.add_feature(land)\n",
    "\n",
    "\n",
    "ax = fig.add_subplot(4,1,2, projection=ccrs.Robinson(central_longitude=305.0))\n",
    "# diatC stands for \"diatom carbon\"\n",
    "ax.set_title('diatC at surface', fontsize=12)\n",
    "lon, lat, field = adjust_pop_grid(lons, lats,  ds.diatC.isel(z_t_150m=0))\n",
    "pc=ax.pcolormesh(lon, lat, field, cmap='Blues',vmin=0,vmax=4,transform=ccrs.PlateCarree())\n",
    "cbar1 = fig.colorbar(pc, ax=ax,extend='max',label='diatC (mmol m$^{-3}$)')\n",
    "land = cartopy.feature.NaturalEarthFeature('physical', 'land', scale='110m', edgecolor='k', facecolor='white', linewidth=0.5)\n",
    "ax.add_feature(land)\n",
    "\n",
    "\n",
    "ax = fig.add_subplot(4,1,3, projection=ccrs.Robinson(central_longitude=305.0))\n",
    "# coccoC stands for \"coccolithophore carbon\"\n",
    "ax.set_title('coccoC at surface', fontsize=12)\n",
    "lon, lat, field = adjust_pop_grid(lons, lats,  ds.coccoC.isel(z_t_150m=0))\n",
    "pc=ax.pcolormesh(lon, lat, field, cmap='Reds',vmin=0,vmax=1,transform=ccrs.PlateCarree())\n",
    "cbar1 = fig.colorbar(pc, ax=ax,extend='max',label='coccoC (mmol m$^{-3}$)')\n",
    "land = cartopy.feature.NaturalEarthFeature('physical', 'land', scale='110m', edgecolor='k', facecolor='white', linewidth=0.5)\n",
    "ax.add_feature(land)\n",
    "\n",
    "ax = fig.add_subplot(4,1,4, projection=ccrs.Robinson(central_longitude=305.0))\n",
    "# diazC stands for \"diazotroph carbon\"\n",
    "ax.set_title('diazC at surface', fontsize=12)\n",
    "lon, lat, field = adjust_pop_grid(lons, lats,  ds.diazC.isel(z_t_150m=0))\n",
    "pc=ax.pcolormesh(lon, lat, field, cmap='Oranges',vmin=0,vmax=0.1,transform=ccrs.PlateCarree())\n",
    "cbar1 = fig.colorbar(pc, ax=ax,extend='max',label='diazC (mmol m$^{-3}$)')\n",
    "land = cartopy.feature.NaturalEarthFeature('physical', 'land', scale='110m', edgecolor='k', facecolor='white', linewidth=0.5)\n",
    "ax.add_feature(land)"
   ]
  },
  {
   "cell_type": "markdown",
   "id": "360fe6d4-d367-4dae-8e0b-20e06b5df51c",
   "metadata": {},
   "source": [
    "### Phytoplankton biomass at 100m"
   ]
  },
  {
   "cell_type": "code",
   "execution_count": null,
   "id": "b53c2678-afcf-4b42-b4bc-08f63163194c",
   "metadata": {},
   "outputs": [],
   "source": [
    "###### \n",
    "fig = plt.figure(figsize=(8,10))\n",
    "\n",
    "\n",
    "ax = fig.add_subplot(4,1,1, projection=ccrs.Robinson(central_longitude=305.0))\n",
    "ax.set_title('spC at 100m', fontsize=12)\n",
    "lon, lat, field = adjust_pop_grid(lons, lats,  ds.spC.isel(z_t_150m=9))\n",
    "pc=ax.pcolormesh(lon, lat, field, cmap='Greens',vmin=0,vmax=0.4,transform=ccrs.PlateCarree())\n",
    "cbar1 = fig.colorbar(pc, ax=ax,extend='max',label='spC (mmol m$^{-3}$)')\n",
    "land = cartopy.feature.NaturalEarthFeature('physical', 'land', scale='110m', edgecolor='k', facecolor='white', linewidth=0.5)\n",
    "ax.add_feature(land)\n",
    "\n",
    "ax = fig.add_subplot(4,1,2, projection=ccrs.Robinson(central_longitude=305.0))\n",
    "ax.set_title('diatC at 100m', fontsize=12)\n",
    "lon, lat, field = adjust_pop_grid(lons, lats,  ds.diatC.isel(z_t_150m=9))\n",
    "pc=ax.pcolormesh(lon, lat, field, cmap='Blues',vmin=0,vmax=0.4,transform=ccrs.PlateCarree())\n",
    "cbar1 = fig.colorbar(pc, ax=ax,extend='max',label='diatC (mmol m$^{-3}$)')\n",
    "land = cartopy.feature.NaturalEarthFeature('physical', 'land', scale='110m', edgecolor='k', facecolor='white', linewidth=0.5)\n",
    "ax.add_feature(land)\n",
    "\n",
    "ax = fig.add_subplot(4,1,3, projection=ccrs.Robinson(central_longitude=305.0))\n",
    "ax.set_title('coccoC at 100m', fontsize=12)\n",
    "lon, lat, field = adjust_pop_grid(lons, lats,  ds.coccoC.isel(z_t_150m=9))\n",
    "pc=ax.pcolormesh(lon, lat, field, cmap='Reds',vmin=0,vmax=0.2,transform=ccrs.PlateCarree())\n",
    "cbar1 = fig.colorbar(pc, ax=ax,extend='max',label='coccoC (mmol m$^{-3}$)')\n",
    "land = cartopy.feature.NaturalEarthFeature('physical', 'land', scale='110m', edgecolor='k', facecolor='white', linewidth=0.5)\n",
    "ax.add_feature(land)\n",
    "\n",
    "ax = fig.add_subplot(4,1,4, projection=ccrs.Robinson(central_longitude=305.0))\n",
    "ax.set_title('diazC at 100m', fontsize=12)\n",
    "lon, lat, field = adjust_pop_grid(lons, lats,  ds.diazC.isel(z_t_150m=9))\n",
    "pc=ax.pcolormesh(lon, lat, field, cmap='Oranges',vmin=0,vmax=0.2,transform=ccrs.PlateCarree())\n",
    "cbar1 = fig.colorbar(pc, ax=ax,extend='max',label='diazC (mmol m$^{-3}$)')\n",
    "land = cartopy.feature.NaturalEarthFeature('physical', 'land', scale='110m', edgecolor='k', facecolor='white', linewidth=0.5)\n",
    "ax.add_feature(land)"
   ]
  },
  {
   "cell_type": "markdown",
   "id": "e2f06524-59ac-40ad-83de-b6575c947b52",
   "metadata": {},
   "source": [
    "## Mapping productivity"
   ]
  },
  {
   "cell_type": "code",
   "execution_count": null,
   "id": "7e3272a9-0af4-458d-b6eb-6bffdcb7dc53",
   "metadata": {},
   "outputs": [],
   "source": [
    "fig = plt.figure(figsize=(8,10))\n",
    "\n",
    "ax = fig.add_subplot(4,1,1, projection=ccrs.Robinson(central_longitude=305.0))\n",
    "ax.set_title('Small phytoplankton production', fontsize=12)\n",
    "lon, lat, field = adjust_pop_grid(lons, lats, ds.photoC_sp_zint * 864.)\n",
    "pc=ax.pcolormesh(lon, lat, field, cmap='Greens',vmin=0,vmax=30,transform=ccrs.PlateCarree())\n",
    "land = cartopy.feature.NaturalEarthFeature('physical', 'land', scale='110m', edgecolor='k', facecolor='white', linewidth=0.5)\n",
    "ax.add_feature(land)\n",
    "\n",
    "cbar1 = fig.colorbar(pc, ax=ax,extend='max',label='sp prod (mmol m$^{-2}$ d$^{-1}$)')\n",
    "\n",
    "ax = fig.add_subplot(4,1,2, projection=ccrs.Robinson(central_longitude=305.0))\n",
    "ax.set_title('Diatom production', fontsize=12)\n",
    "lon, lat, field = adjust_pop_grid(lons, lats, ds.photoC_diat_zint * 864.)\n",
    "pc=ax.pcolormesh(lon, lat, field, cmap='Blues',vmin=0,vmax=30,transform=ccrs.PlateCarree())\n",
    "land = cartopy.feature.NaturalEarthFeature('physical', 'land', scale='110m', edgecolor='k', facecolor='white', linewidth=0.5)\n",
    "ax.add_feature(land)\n",
    "\n",
    "cbar1 = fig.colorbar(pc, ax=ax,extend='max',label='diat prod (mmol m$^{-2}$ d$^{-1}$)')\n",
    "\n",
    "ax = fig.add_subplot(4,1,3, projection=ccrs.Robinson(central_longitude=305.0))\n",
    "ax.set_title('Diazotroph production', fontsize=12)\n",
    "lon, lat, field = adjust_pop_grid(lons, lats, ds.photoC_diaz_zint * 864.)\n",
    "pc=ax.pcolormesh(lon, lat, field, cmap='Reds',vmin=0,vmax=5,transform=ccrs.PlateCarree())\n",
    "land = cartopy.feature.NaturalEarthFeature('physical', 'land', scale='110m', edgecolor='k', facecolor='white', linewidth=0.5)\n",
    "ax.add_feature(land)\n",
    "\n",
    "cbar1 = fig.colorbar(pc, ax=ax,extend='max',label='diaz prod (mmol m$^{-2}$ d$^{-1}$)')\n",
    "\n",
    "ax = fig.add_subplot(4,1,4, projection=ccrs.Robinson(central_longitude=305.0))\n",
    "ax.set_title('Coccolithophore production', fontsize=12)\n",
    "lon, lat, field = adjust_pop_grid(lons, lats, ds.photoC_cocco_zint * 864.)\n",
    "pc=ax.pcolormesh(lon, lat, field, cmap='Oranges',vmin=0,vmax=5,transform=ccrs.PlateCarree())\n",
    "land = cartopy.feature.NaturalEarthFeature('physical', 'land', scale='110m', edgecolor='k', facecolor='white', linewidth=0.5)\n",
    "ax.add_feature(land)\n",
    "\n",
    "cbar1 = fig.colorbar(pc, ax=ax,extend='max',label='cocco prod (mmol m$^{-2}$ d$^{-1}$)');"
   ]
  },
  {
   "cell_type": "code",
   "execution_count": null,
   "id": "58e03612-a802-4df4-84a1-40d88a9f440d",
   "metadata": {},
   "outputs": [],
   "source": [
    "fig = plt.figure(figsize=(12,5))\n",
    "\n",
    "ax = fig.add_subplot(1,1,1, projection=ccrs.Robinson(central_longitude=305.0))\n",
    "ax.set_title('Total NPP', fontsize=12)\n",
    "lon, lat, field = adjust_pop_grid(lons, lats,  ds.photoC_TOT_zint*864.)\n",
    "pc=ax.pcolormesh(lon, lat, field, cmap='Greens',vmin=0,vmax=60,transform=ccrs.PlateCarree())\n",
    "land = cartopy.feature.NaturalEarthFeature('physical', 'land', scale='110m', edgecolor='k', facecolor='white', linewidth=0.5)\n",
    "ax.add_feature(land)\n",
    "cbar1 = fig.colorbar(pc, ax=ax,extend='max',label='NPP (mmol m$^{-2}$ d$^{-1}$)');"
   ]
  },
  {
   "cell_type": "markdown",
   "id": "92c35c06-f9b8-4d8d-974d-2cfeb1ae3b3e",
   "metadata": {},
   "source": [
    "### Globally integrated NPP"
   ]
  },
  {
   "cell_type": "code",
   "execution_count": null,
   "id": "327c936f-eca0-4141-ac97-fcff2197b38a",
   "metadata": {},
   "outputs": [],
   "source": [
    "def global_mean(ds, ds_grid, compute_vars, normalize=True, include_ms=False):\n",
    "    \"\"\"\n",
    "    Compute the global mean on a POP dataset. \n",
    "    Return computed quantity in conventional units.\n",
    "    \"\"\"\n",
    "\n",
    "    other_vars = list(set(ds.variables) - set(compute_vars))\n",
    "\n",
    "    # note TAREA is in cm^2, which affects units\n",
    "\n",
    "    if include_ms: # marginal seas!\n",
    "        surface_mask = ds_grid.TAREA.where(ds_grid.KMT > 0).fillna(0.)\n",
    "    else:\n",
    "        surface_mask = ds_grid.TAREA.where(ds_grid.REGION_MASK > 0).fillna(0.)        \n",
    "    \n",
    "    masked_area = {\n",
    "        v: surface_mask.where(ds[v].notnull()).fillna(0.) \n",
    "        for v in compute_vars\n",
    "    }\n",
    "    \n",
    "    with xr.set_options(keep_attrs=True):\n",
    "        \n",
    "        dso = xr.Dataset({\n",
    "            v: (ds[v] * masked_area[v]).sum(['nlat', 'nlon'])\n",
    "            for v in compute_vars\n",
    "        })\n",
    "        \n",
    "        if normalize:\n",
    "            dso = xr.Dataset({\n",
    "                v: dso[v] / masked_area[v].sum(['nlat', 'nlon'])\n",
    "                for v in compute_vars\n",
    "            })            \n",
    "                \n",
    "    return dso"
   ]
  },
  {
   "cell_type": "code",
   "execution_count": null,
   "id": "bc3e6da0-0bbc-46c6-ac8d-eef7fb5b7300",
   "metadata": {},
   "outputs": [],
   "source": [
    "ds_glb = global_mean(ds, ds_grid, variables,normalize=False).compute()\n",
    "\n",
    "# convert from nmol C/s to Pg C/yr\n",
    "nmols_to_PgCyr = 1e-9 * 12. * 1e-15 * 365. * 86400.\n",
    "\n",
    "for v in variables:\n",
    "    ds_glb[v] = ds_glb[v] * nmols_to_PgCyr        \n",
    "    ds_glb[v].attrs['units'] = 'Pg C yr$^{-1}$'\n",
    "    \n",
    "ds_glb"
   ]
  },
  {
   "cell_type": "markdown",
   "id": "a4b05ae0-e44d-4bd1-9faf-83afd58d9f2f",
   "metadata": {
    "tags": []
   },
   "source": [
    "## Comparing to NPP satellite data"
   ]
  },
  {
   "cell_type": "markdown",
   "id": "f4473d62-3097-4783-baba-4440a9035224",
   "metadata": {},
   "source": [
    "We load in a satellite-derived estimate of NPP, calculated with the VGPM algorithm [(Behrenfeld and Falkowski, 1997)](https://doi.org/10.4319/lo.1997.42.1.0001). This data can be found at [this website](http://orca.science.oregonstate.edu/1080.by.2160.monthly.hdf.vgpm.m.chl.m.sst.php); we've re-uploaded a portion of it for easier access. It was originally provided in the format of HDF4 files; we have converted these to NetCDF files to make reading in data from the cloud more straightforward, but some additional processing is still required to format the time and space coordinates correctly before we can work with the data."
   ]
  },
  {
   "cell_type": "code",
   "execution_count": null,
   "id": "95e2fd53-56dd-44c3-950d-47de610902c5",
   "metadata": {},
   "outputs": [],
   "source": [
    "s3path = 's3://pythia/ocean-bgc/obs/vgpm/*.nc'\n",
    "\n",
    "remote_files = s3.glob(s3path)\n",
    "\n",
    "# Open all files from bucket\n",
    "fileset = [s3.open(file) for file in remote_files]\n"
   ]
  },
  {
   "cell_type": "markdown",
   "id": "13990f91-b709-4764-9970-446ae2025c71",
   "metadata": {},
   "source": [
    "Let's try reading in one of these files to see what the format looks like."
   ]
  },
  {
   "cell_type": "code",
   "execution_count": null,
   "id": "b7c52a31-03bd-4ee7-ba06-5c8c1fa4604d",
   "metadata": {},
   "outputs": [],
   "source": [
    "test_ds = xr.open_dataset(fileset[0])\n",
    "\n",
    "test_ds"
   ]
  },
  {
   "cell_type": "code",
   "execution_count": null,
   "id": "4365ed8c-4ae7-49eb-b0da-053e8b01da39",
   "metadata": {},
   "outputs": [],
   "source": [
    "all_single_ds = []\n",
    "\n",
    "for file in fileset:\n",
    "    ds_singlefile = xr.open_dataset(file)\n",
    "    timestr = ds_singlefile[\"band_data\"].attrs[\"Start Time String\"]\n",
    "    format_data = \"%m/%d/%Y %H:%M:%S\"\n",
    "    ds_singlefile[\"time\"] = datetime.strptime(timestr, format_data)\n",
    "    all_single_ds.append(ds_singlefile)\n",
    "\n",
    "ds_sat = xr.concat(all_single_ds, dim=\"time\")\n",
    "    "
   ]
  },
  {
   "cell_type": "code",
   "execution_count": null,
   "id": "12e44e2e-1e70-4f63-840f-8b3f45466795",
   "metadata": {},
   "outputs": [],
   "source": [
    "ds_sat"
   ]
  },
  {
   "cell_type": "markdown",
   "id": "3cea7945-211f-4546-8335-bff267fbd9cd",
   "metadata": {},
   "source": [
    "Now we have a time dimension! Let's try plotting the data to see what else we need to fix."
   ]
  },
  {
   "cell_type": "code",
   "execution_count": null,
   "id": "24d56905-6fd2-4280-be27-638c91c25c84",
   "metadata": {},
   "outputs": [],
   "source": [
    "ds_sat.band_data.isel(time=0, band=0).plot()"
   ]
  },
  {
   "cell_type": "markdown",
   "id": "02eeb7dd-3223-4a2e-ad69-3dc872318043",
   "metadata": {},
   "source": [
    "There are a few things going on here. The data is upside down from a more common map projection, and the spatial coordinates are a generic x and y rather than latitude and longitude. The color scale also doesn't look right because areas like land that should be masked out are showing up as a low negative value, throwing off the positive values we actually want to see. We also have an extra `band` coordinate in the dataset - probably a holdover from the satellite data this product was generated from, but no longer giving us useful information. In the next block, we fix these problems."
   ]
  },
  {
   "cell_type": "markdown",
   "id": "fb183387-418b-4cd9-b44d-3024c2782c27",
   "metadata": {},
   "source": [
    "### Preliminary processing"
   ]
  },
  {
   "cell_type": "code",
   "execution_count": null,
   "id": "cb005a3f-0a69-416b-8a1f-5ebd836f3c40",
   "metadata": {},
   "outputs": [],
   "source": [
    "# fix coords\n",
    "ds_sat = ds_sat.rename(name_dict={\"x\": \"lon\", \"y\": \"lat\", \"band_data\": \"NPP\"})\n",
    "ds_sat[\"lon\"] = (ds_sat.lon/6 + 180) % 360\n",
    "ds_sat = ds_sat.sortby(ds_sat.lon)\n",
    "ds_sat[\"lat\"] = (ds_sat.lat/6 - 90)[::-1]\n",
    "\n",
    "# mask values\n",
    "ds_sat = ds_sat.where(ds_sat.NPP != -9999.) \n",
    "\n",
    "# get rid of extra dimensions\n",
    "ds_sat = ds_sat.squeeze(dim=\"band\", drop=True)\n",
    "ds_sat = ds_sat.drop_vars(\"spatial_ref\")\n",
    "\n",
    "# make NPP units match previous dataset\n",
    "ds_sat[\"NPP\"] = ds_sat.NPP / 12.01\n",
    "ds_sat[\"NPP\"] = ds_sat.NPP.assign_attrs(\n",
    "    units=\"mmol m-2 day-1\")\n"
   ]
  },
  {
   "cell_type": "code",
   "execution_count": null,
   "id": "166f69c0-51a4-45a9-a7fd-330d952728e3",
   "metadata": {},
   "outputs": [],
   "source": [
    "ds_sat"
   ]
  },
  {
   "cell_type": "code",
   "execution_count": null,
   "id": "8f60a979-2bfc-461d-9cb7-9d8c25d7e7e9",
   "metadata": {},
   "outputs": [],
   "source": [
    "ds_sat.NPP.isel(time=0).plot(vmin=0, vmax=60)"
   ]
  },
  {
   "cell_type": "code",
   "execution_count": null,
   "id": "ab09fac3-ad53-490d-a4da-5f0463186e00",
   "metadata": {},
   "outputs": [],
   "source": [
    "ds_sat"
   ]
  },
  {
   "cell_type": "code",
   "execution_count": null,
   "id": "babe956f-18fd-41d5-a2d1-93f6e10f4a7d",
   "metadata": {},
   "outputs": [],
   "source": [
    "fig = plt.figure(figsize=(12,5))\n",
    "\n",
    "ax = fig.add_subplot(1,1,1, projection=ccrs.Robinson(central_longitude=305.0))\n",
    "ax.set_title('NPP in January 2010', fontsize=12)\n",
    "pc=ax.pcolormesh(ds_sat.lon, ds_sat.lat, ds_sat.NPP.isel(time=0), cmap='Greens',vmin=0,vmax=60,transform=ccrs.PlateCarree())\n",
    "land = cartopy.feature.NaturalEarthFeature('physical', 'land', scale='110m', edgecolor='k', facecolor='white', linewidth=0.5)\n",
    "ax.add_feature(land)\n",
    "cbar1 = fig.colorbar(pc, ax=ax,extend='max',label='NPP (mmol m$^{-2}$ d$^{-1}$)');"
   ]
  },
  {
   "cell_type": "markdown",
   "id": "5e4cdf0a-d29c-4537-afad-97b9101531db",
   "metadata": {},
   "source": [
    "### Making a comparison map"
   ]
  },
  {
   "cell_type": "markdown",
   "id": "0029f0dc-7098-41b6-9d12-b6769c552524",
   "metadata": {},
   "source": [
    "Now let's process in time. Use the monthly to annual function that we made before."
   ]
  },
  {
   "cell_type": "code",
   "execution_count": null,
   "id": "b200f65c-3dab-4742-af10-d3868e1d40ac",
   "metadata": {},
   "outputs": [],
   "source": [
    "ds_sat_ann = year_mean(ds_sat)"
   ]
  },
  {
   "cell_type": "code",
   "execution_count": null,
   "id": "e7428a36-51fc-4864-883a-7e5950e78c35",
   "metadata": {},
   "outputs": [],
   "source": [
    "ds_sat_timemean = ds_sat_ann.mean(\"year\")"
   ]
  },
  {
   "cell_type": "code",
   "execution_count": null,
   "id": "4714f58e-f60f-4993-ba36-7fbaf9546127",
   "metadata": {},
   "outputs": [],
   "source": [
    "ds_sat_timemean"
   ]
  },
  {
   "cell_type": "code",
   "execution_count": null,
   "id": "82192d31-2d93-4c4a-a1cf-7ec3f76bd7d5",
   "metadata": {},
   "outputs": [],
   "source": [
    "fig = plt.figure(figsize=(16,5))\n",
    "\n",
    "fig.suptitle(\"NPP, mean over 2010-2019\")\n",
    "\n",
    "ax = fig.add_subplot(1,2,1, projection=ccrs.Robinson(central_longitude=305.0))\n",
    "ax.set_title('CESM (Model)', fontsize=12)\n",
    "lon, lat, field = adjust_pop_grid(lons, lats,  ds.photoC_TOT_zint*864.)\n",
    "pc=ax.pcolormesh(lon, lat, field, cmap='Greens',vmin=0,vmax=60,transform=ccrs.PlateCarree())\n",
    "land = cartopy.feature.NaturalEarthFeature('physical', 'land', scale='110m', edgecolor='k', facecolor='white', linewidth=0.5)\n",
    "ax.add_feature(land)\n",
    "\n",
    "ax = fig.add_subplot(1,2,2, projection=ccrs.Robinson(central_longitude=305.0))\n",
    "ax.set_title('VGPM (Satellite-based algorithm)', fontsize=12)\n",
    "pc=ax.pcolormesh(ds_sat_timemean.lon, ds_sat_timemean.lat, ds_sat_timemean.NPP, cmap='Greens',vmin=0,vmax=60,transform=ccrs.PlateCarree())\n",
    "land = cartopy.feature.NaturalEarthFeature('physical', 'land', scale='110m', edgecolor='k', facecolor='white', linewidth=0.5)\n",
    "ax.add_feature(land)\n",
    "\n",
    "fig.subplots_adjust(right=0.8)\n",
    "cbar_ax = fig.add_axes([0.85, 0.15, 0.02, 0.7])\n",
    "fig.colorbar(pc, cax=cbar_ax, label='NPP (mmol m$^{-2}$ d$^{-1}$)')\n",
    "plt.show()\n",
    "\n"
   ]
  },
  {
   "cell_type": "markdown",
   "id": "7a1c29c9-9dd2-4d7b-961f-a9cd6b0efb63",
   "metadata": {},
   "source": [
    "And close the Dask cluster we spun up at the beginning."
   ]
  },
  {
   "cell_type": "code",
   "execution_count": null,
   "id": "9aeb9f88-fee3-4f21-abf1-7b5c45a28a65",
   "metadata": {},
   "outputs": [],
   "source": [
    "cluster.close()"
   ]
  },
  {
   "cell_type": "markdown",
   "id": "8481c186-5208-49f9-ba2a-04d443ecd52e",
   "metadata": {},
   "source": [
    "---"
   ]
  },
  {
   "cell_type": "markdown",
   "id": "ffdf4ad9-2838-48b3-954d-24414b32de77",
   "metadata": {
    "jp-MarkdownHeadingCollapsed": true
   },
   "source": [
    "## Summary\n",
    "You've learned how to take a look at a few quantities related to phytoplankton in CESM, as well as processing an observation-derived dataset in a different format."
   ]
  },
  {
   "cell_type": "markdown",
   "id": "6eaba1df-0fb4-4012-945b-e25b00dbef04",
   "metadata": {},
   "source": [
    "## Resources and references\n",
    "- [Sarmiento and Gruber Chapter 4: Organic Matter Production](https://doi.org/10.2307/j.ctt3fgxqx.7) (see Phytoplankton in Section 4.2)\n",
    "- [Behrenfeld and Falkowski, 1997](https://doi.org/10.4319/lo.1997.42.1.0001)\n",
    "- [VGPM ocean productivity data](http://orca.science.oregonstate.edu/1080.by.2160.monthly.hdf.vgpm.m.chl.m.sst.php)\n"
   ]
  }
 ],
 "metadata": {
  "kernelspec": {
   "display_name": "",
   "name": ""
  },
  "language_info": {
   "name": "python"
  }
 },
 "nbformat": 4,
 "nbformat_minor": 5
}
