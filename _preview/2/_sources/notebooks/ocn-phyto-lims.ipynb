{
 "cells": [
  {
   "cell_type": "markdown",
   "id": "b32e55d3-d037-40b9-96ac-b2ff03536e23",
   "metadata": {},
   "source": [
    "# Phytoplankton nutrient limitation\n",
    "<div>\n",
    "<img src=\"https://img.pagecloud.com/5v7MdnqDGKaeDDpybk5xJIM7kkQ=/552x0/filters:no_upscale()/scientific-illustrations-by-kristen/images/centric_diatom-a7dae-j39bc.png\" width=\"300\"/>\n",
    "</div>\n",
    "\n",
    "A centric diatom, another type of phytoplankton. Art credit: [Kristen Krumhardt](https://kristenkrumhardtart.com/)"
   ]
  },
  {
   "cell_type": "markdown",
   "id": "23f193a6-d0c8-426e-801d-f056383f5587",
   "metadata": {},
   "source": [
    "---"
   ]
  },
  {
   "cell_type": "markdown",
   "id": "8a4c9d1d-2de2-4ca7-8940-c14791de6e72",
   "metadata": {
    "editable": true,
    "slideshow": {
     "slide_type": ""
    },
    "tags": []
   },
   "source": [
    "## Overview\n",
    "In previous notebooks, we explored the distribution of different nutrients in the ocean. Here we examine how the growth of phytoplankton communities is limited by these nutrient distributions.\n",
    "\n",
    "1. General setup\n",
    "2. Subsetting\n",
    "3. Processing - long-term mean\n",
    "4. Mapping nutrient limitation at the surface\n",
    "5. Mapping biomass-weighted nutrient limitation in the top 100m\n",
    "6. Making monthly climatology maps\n",
    "   "
   ]
  },
  {
   "cell_type": "markdown",
   "id": "192d8367-7d6d-480f-b8c0-b8c42987dc84",
   "metadata": {},
   "source": [
    "## Prerequisites\n",
    "\n",
    "| Concepts | Importance | Notes |\n",
    "| --- | --- | --- |\n",
    "| [Matplotlib](https://foundations.projectpythia.org/core/matplotlib.html) | Necessary | |\n",
    "| [Intro to Cartopy](https://foundations.projectpythia.org/core/cartopy/cartopy.html) | Necessary | |\n",
    "| [Dask Cookbook](https://projectpythia.org/dask-cookbook/README.html) | Helpful | |\n",
    "| [Intro to Xarray](https://foundations.projectpythia.org/core/xarray.html) | Helpful | |\n",
    "\n",
    "- **Time to learn**: 30 min\n"
   ]
  },
  {
   "cell_type": "markdown",
   "id": "e6fe9247-cc38-44a8-8ee7-1bfe5e41ab0a",
   "metadata": {},
   "source": [
    "---"
   ]
  },
  {
   "cell_type": "markdown",
   "id": "ea51a851-b267-4b54-9395-2ef226c864a9",
   "metadata": {},
   "source": [
    "## Imports"
   ]
  },
  {
   "cell_type": "code",
   "execution_count": null,
   "id": "5d79c98c-73d9-4988-8234-6c1b68261240",
   "metadata": {},
   "outputs": [],
   "source": [
    "import xarray as xr\n",
    "import glob\n",
    "import numpy as np\n",
    "import matplotlib.pyplot as plt\n",
    "import matplotlib.colors\n",
    "import cartopy\n",
    "import cartopy.crs as ccrs\n",
    "import pop_tools\n",
    "from dask.distributed import LocalCluster\n",
    "import s3fs\n",
    "import netCDF4\n",
    "\n",
    "from module import adjust_pop_grid"
   ]
  },
  {
   "cell_type": "markdown",
   "id": "e4f541ea-5733-4b41-ae46-e2aafb217515",
   "metadata": {},
   "source": [
    "## General setup (see intro notebooks for explanations)"
   ]
  },
  {
   "cell_type": "markdown",
   "id": "053e7fff-3220-4661-8f66-d6d76f0998e1",
   "metadata": {},
   "source": [
    "### Connect to cluster"
   ]
  },
  {
   "cell_type": "code",
   "execution_count": null,
   "id": "af221088-8452-4c15-b4ef-3a1ca956d92e",
   "metadata": {},
   "outputs": [],
   "source": [
    "cluster = LocalCluster()\n",
    "client = cluster.get_client()"
   ]
  },
  {
   "cell_type": "markdown",
   "id": "6ffbdf86-3341-4cd5-a6ea-ed9c1ed0556f",
   "metadata": {},
   "source": [
    "### Bring in POP grid utilities"
   ]
  },
  {
   "cell_type": "code",
   "execution_count": null,
   "id": "94cd74f0-8da4-40a6-9b57-d0c73f1562f2",
   "metadata": {},
   "outputs": [],
   "source": [
    "ds_grid = pop_tools.get_grid('POP_gx1v7')\n",
    "lons = ds_grid.TLONG\n",
    "lats = ds_grid.TLAT\n",
    "depths = ds_grid.z_t * 0.01"
   ]
  },
  {
   "cell_type": "markdown",
   "id": "652bc60d-d17e-4bbb-bfce-2b323281f444",
   "metadata": {},
   "source": [
    "### Load the data"
   ]
  },
  {
   "cell_type": "code",
   "execution_count": null,
   "id": "b129308a-a076-484f-84de-4dbf195c7ed6",
   "metadata": {},
   "outputs": [],
   "source": [
    "jetstream_url = 'https://js2.jetstream-cloud.org:8001/'\n",
    "\n",
    "s3 = s3fs.S3FileSystem(anon=True, client_kwargs=dict(endpoint_url=jetstream_url))\n",
    "\n",
    "# Generate a list of all files in CESM folder\n",
    "s3path = 's3://pythia/ocean-bgc/cesm/g.e22.GOMIPECOIAF_JRA-1p4-2018.TL319_g17.4p2z.002branch/ocn/proc/tseries/month_1/*'\n",
    "remote_files = s3.glob(s3path)\n",
    "\n",
    "# Open all files from folder\n",
    "fileset = [s3.open(file) for file in remote_files]\n",
    "\n",
    "# Open with xarray\n",
    "ds = xr.open_mfdataset(fileset, data_vars=\"minimal\", coords='minimal', compat=\"override\", parallel=True,\n",
    "                       drop_variables=[\"transport_components\", \"transport_regions\", 'moc_components'], decode_times=True)\n",
    "\n",
    "ds"
   ]
  },
  {
   "cell_type": "markdown",
   "id": "0b83b767-ff4e-4509-90c4-da96c31257f6",
   "metadata": {},
   "source": [
    "## Subsetting"
   ]
  },
  {
   "cell_type": "code",
   "execution_count": null,
   "id": "df24f626-ec70-428e-b44f-17597a60cc69",
   "metadata": {},
   "outputs": [],
   "source": [
    "variables =['sp_Fe_lim_Cweight_avg_100m','sp_P_lim_Cweight_avg_100m','sp_N_lim_Cweight_avg_100m',\n",
    "             'diat_Fe_lim_Cweight_avg_100m', 'diat_P_lim_Cweight_avg_100m','diat_N_lim_Cweight_avg_100m',\n",
    "             'diat_SiO3_lim_Cweight_avg_100m','diaz_P_lim_Cweight_avg_100m',\n",
    "             'diaz_Fe_lim_Cweight_avg_100m','cocco_Fe_lim_Cweight_avg_100m','cocco_C_lim_Cweight_avg_100m','cocco_N_lim_Cweight_avg_100m',\n",
    "             'cocco_P_lim_Cweight_avg_100m','sp_Fe_lim_surf','sp_P_lim_surf','sp_N_lim_surf',\n",
    "             'diat_Fe_lim_surf', 'diat_P_lim_surf','diat_N_lim_surf','diat_SiO3_lim_surf',\n",
    "             'diaz_P_lim_surf','cocco_Fe_lim_surf','cocco_C_lim_surf','cocco_N_lim_surf',\n",
    "             'cocco_P_lim_surf','diaz_Fe_lim_surf']\n",
    "keep_vars=['z_t','z_t_150m','dz','time_bound', 'time', 'TAREA','TLAT','TLONG'] + variables\n",
    "ds = ds.drop_vars([v for v in ds.variables if v not in keep_vars])"
   ]
  },
  {
   "cell_type": "markdown",
   "id": "1ab5692f-1739-4093-ba41-fd13334bd07f",
   "metadata": {},
   "source": [
    "## Processing - long-term mean"
   ]
  },
  {
   "cell_type": "markdown",
   "id": "0a6077af-aa1b-4a2a-b800-efd718206ab3",
   "metadata": {},
   "source": [
    "Pull in the function we defined in the nutrients notebook..."
   ]
  },
  {
   "cell_type": "code",
   "execution_count": null,
   "id": "c95bf4b1-dd1c-4ad3-9e4a-1313cfbd1dad",
   "metadata": {},
   "outputs": [],
   "source": [
    "def year_mean(ds):\n",
    "    \"\"\"\n",
    "    Properly convert monthly data to annual means, taking into account month lengths.\n",
    "    Source: https://ncar.github.io/esds/posts/2021/yearly-averages-xarray/\n",
    "    \"\"\"\n",
    "    \n",
    "    # Make a DataArray with the number of days in each month, size = len(time)\n",
    "    month_length = ds.time.dt.days_in_month\n",
    "\n",
    "    # Calculate the weights by grouping by 'time.season'\n",
    "    weights = (\n",
    "        month_length.groupby(\"time.year\") / month_length.groupby(\"time.year\").sum()\n",
    "    )\n",
    "\n",
    "    # Test that the sum of the weights for each season is 1.0\n",
    "    np.testing.assert_allclose(weights.groupby(\"time.year\").sum().values, np.ones((len(ds.groupby(\"time.year\")), )))\n",
    "\n",
    "    # Calculate the weighted average\n",
    "    return (ds * weights).groupby(\"time.year\").sum(dim=\"time\")\n",
    "    "
   ]
  },
  {
   "cell_type": "markdown",
   "id": "c434840a-a3ba-492c-8c05-2635e907c183",
   "metadata": {
    "jp-MarkdownHeadingCollapsed": true
   },
   "source": [
    "Take the long-term mean of our data set. We process monthly to annual with our custom function, then use xarray's built-in `.mean()` function to process from annual data to a single mean over time, since each year is the same length."
   ]
  },
  {
   "cell_type": "code",
   "execution_count": null,
   "id": "c42faca5-b257-49a8-8e7f-be1bec7b1574",
   "metadata": {},
   "outputs": [],
   "source": [
    "ds_year = year_mean(ds).mean(\"year\")"
   ]
  },
  {
   "cell_type": "markdown",
   "id": "a9e75c73-8bcf-459f-b017-736de91d88b3",
   "metadata": {},
   "source": [
    "## Mapping nutrient limitation at the surface\n",
    "Phytoplankton need a specific ratio of nutrients to grow and produce organic matter. In general, this is known as the Redfield ratio, first proposed by [Redfield et al., 1963](https://books.google.com/books?id=LeMvduUHtxQC&pg=PA26&source=gbs_toc_r&cad=1), and is approximately 106 C:16 N:1 P. Micronutrients like silicate and iron are also needed in more variable amounts depending on plankton type. To learn more about nutrient limitation, see [Sarmiento and Gruber Chapter 4: Organic Matter Production](https://doi.org/10.2307/j.ctt3fgxqx.7).\n",
    "Our dataset uses a numerical notation to specify which nutrient is limiting in each area for each phytoplankton functional type, as specified below:\n",
    "- 0 = PO4\n",
    "- 1 = Fe\n",
    "- 2 = NO3 (only for small phytoplankton and diatoms)\n",
    "- 3 = Si (only for diatoms)\n",
    "- 3 = C (only for coccolithophores)\n",
    "  \n",
    "To turn this information into a single array, we concatenate the limitation terms along the `nutrient` dimension for each phytoplankton functional type."
   ]
  },
  {
   "cell_type": "code",
   "execution_count": null,
   "id": "7e26a30a-f13f-430e-8a3d-6de0767eb99f",
   "metadata": {},
   "outputs": [],
   "source": [
    "limarray_sp=xr.concat((ds_year.sp_P_lim_surf, ds_year.sp_Fe_lim_surf,ds_year.sp_N_lim_surf),dim='nutrient')\n",
    "limarray_diat=xr.concat((ds_year.diat_P_lim_surf, ds_year.diat_Fe_lim_surf, ds_year.diat_N_lim_surf, ds_year.diat_SiO3_lim_surf),dim='nutrient')\n",
    "limarray_diaz=xr.concat((ds_year.diaz_P_lim_surf, ds_year.diaz_Fe_lim_surf),dim='nutrient')\n",
    "limarray_cocco=xr.concat((ds_year.cocco_P_lim_surf, ds_year.cocco_Fe_lim_surf, ds_year.cocco_N_lim_surf, ds_year.cocco_C_lim_surf),dim='nutrient')\n",
    "                          \n",
    "most_lim_sp=limarray_sp.argmin(dim='nutrient', skipna=False).squeeze()\n",
    "most_lim_diat=limarray_diat.argmin(dim='nutrient', skipna=False).squeeze()\n",
    "most_lim_diaz=limarray_diaz.argmin(dim='nutrient', skipna=False).squeeze()\n",
    "most_lim_cocco=limarray_cocco.argmin(dim='nutrient', skipna=False).squeeze()\n",
    "mask = np.isnan(ds_year.sp_N_lim_surf.squeeze())"
   ]
  },
  {
   "cell_type": "code",
   "execution_count": null,
   "id": "bff8e04c-c929-4159-8c04-208cad7285d6",
   "metadata": {},
   "outputs": [],
   "source": [
    "fig = plt.figure(figsize=(8,13))\n",
    "colorbar_specs = {'ticks' : np.arange(0,4,1)}\n",
    "\n",
    "ax = fig.add_subplot(4,1,2, projection=ccrs.Robinson(central_longitude=305.0))\n",
    "ax.set_title('Diat surface nutrient limitation', fontsize=12)\n",
    "lon, lat, field = adjust_pop_grid(lons, lats,  most_lim_diat.where(~mask))\n",
    "pc=ax.pcolormesh(lon, lat, field, cmap=matplotlib.colormaps['viridis'].resampled(4),vmin=-0.5,vmax=3.5,transform=ccrs.PlateCarree())\n",
    "land = cartopy.feature.NaturalEarthFeature('physical', 'land', scale='110m', edgecolor='k', facecolor='white', linewidth=0.5)\n",
    "ax.add_feature(land)\n",
    "\n",
    "ax = fig.add_subplot(4,1,1, projection=ccrs.Robinson(central_longitude=305.0))\n",
    "ax.set_title('SP surface nutrient limitation', fontsize=12)\n",
    "lon, lat, field = adjust_pop_grid(lons, lats,  most_lim_sp.where(~mask))\n",
    "pc=ax.pcolormesh(lon, lat, field, cmap=matplotlib.colormaps['viridis'].resampled(4),vmin=-0.5,vmax=3.5,transform=ccrs.PlateCarree())\n",
    "land = cartopy.feature.NaturalEarthFeature('physical', 'land', scale='110m', edgecolor='k', facecolor='white', linewidth=0.5)\n",
    "ax.add_feature(land)\n",
    "\n",
    "ax = fig.add_subplot(4,1,3, projection=ccrs.Robinson(central_longitude=305.0))\n",
    "ax.set_title('Cocco surface nutrient limitation', fontsize=12)\n",
    "lon, lat, field = adjust_pop_grid(lons, lats,  most_lim_cocco.where(~mask))\n",
    "pc=ax.pcolormesh(lon, lat, field, cmap=matplotlib.colormaps['viridis'].resampled(4),vmin=-0.5,vmax=3.5,transform=ccrs.PlateCarree())\n",
    "land = cartopy.feature.NaturalEarthFeature('physical', 'land', scale='110m', edgecolor='k', facecolor='white', linewidth=0.5)\n",
    "ax.add_feature(land)\n",
    "\n",
    "ax = fig.add_subplot(4,1,4, projection=ccrs.Robinson(central_longitude=305.0))\n",
    "ax.set_title('Diaz surface nutrient limitation', fontsize=12)\n",
    "lon, lat, field = adjust_pop_grid(lons, lats,  most_lim_diaz.where(~mask))\n",
    "pc=ax.pcolormesh(lon, lat, field, cmap=matplotlib.colormaps['viridis'].resampled(4),vmin=-0.5,vmax=3.5,transform=ccrs.PlateCarree())\n",
    "land = cartopy.feature.NaturalEarthFeature('physical', 'land', scale='110m', edgecolor='k', facecolor='white', linewidth=0.5)\n",
    "ax.add_feature(land)\n",
    "\n",
    "fig.subplots_adjust(right=0.8)\n",
    "cbar_ax = fig.add_axes([0.85, 0.15, 0.05, 0.7])\n",
    "cbar = fig.colorbar(pc, cax=cbar_ax,**colorbar_specs)\n",
    "cbar.ax.set_yticklabels(['P lim', 'Fe lim', 'N lim','SiO3/C lim']);"
   ]
  },
  {
   "cell_type": "markdown",
   "id": "360fe6d4-d367-4dae-8e0b-20e06b5df51c",
   "metadata": {},
   "source": [
    "## Mapping biomass-weighted nutrient limitation in the top 100m"
   ]
  },
  {
   "cell_type": "code",
   "execution_count": null,
   "id": "ea5a90a1-d198-4d57-9708-6947baeceec1",
   "metadata": {},
   "outputs": [],
   "source": [
    "limarray_sp=xr.concat((ds_year.sp_P_lim_Cweight_avg_100m, ds_year.sp_Fe_lim_Cweight_avg_100m,ds_year.sp_N_lim_Cweight_avg_100m),dim='nutrient')\n",
    "limarray_diat=xr.concat((ds_year.diat_P_lim_Cweight_avg_100m, ds_year.diat_Fe_lim_Cweight_avg_100m, ds_year.diat_N_lim_Cweight_avg_100m, ds_year.diat_SiO3_lim_Cweight_avg_100m),dim='nutrient')\n",
    "limarray_diaz=xr.concat((ds_year.diaz_P_lim_Cweight_avg_100m, ds_year.diaz_Fe_lim_Cweight_avg_100m),dim='nutrient')\n",
    "limarray_cocco=xr.concat((ds_year.cocco_P_lim_Cweight_avg_100m, ds_year.cocco_Fe_lim_Cweight_avg_100m, ds_year.cocco_N_lim_Cweight_avg_100m, ds_year.cocco_C_lim_Cweight_avg_100m),dim='nutrient')\n",
    "                          \n",
    "most_lim_sp=limarray_sp.argmin(dim='nutrient', skipna=False).squeeze()\n",
    "most_lim_diat=limarray_diat.argmin(dim='nutrient', skipna=False).squeeze()\n",
    "most_lim_diaz=limarray_diaz.argmin(dim='nutrient', skipna=False).squeeze()\n",
    "most_lim_cocco=limarray_cocco.argmin(dim='nutrient', skipna=False).squeeze()\n",
    "mask = np.isnan(ds_year.sp_N_lim_surf.squeeze())"
   ]
  },
  {
   "cell_type": "code",
   "execution_count": null,
   "id": "b53c2678-afcf-4b42-b4bc-08f63163194c",
   "metadata": {},
   "outputs": [],
   "source": [
    "fig = plt.figure(figsize=(8,13))\n",
    "colorbar_specs = {'ticks' : np.arange(0,4,1)}\n",
    "\n",
    "ax = fig.add_subplot(4,1,2, projection=ccrs.Robinson(central_longitude=305.0))\n",
    "ax.set_title('Diat biomass-weighted nutrient limitation', fontsize=12)\n",
    "lon, lat, field = adjust_pop_grid(lons, lats,  most_lim_diat.where(~mask))\n",
    "pc=ax.pcolormesh(lon, lat, field, cmap=matplotlib.colormaps['viridis'].resampled(4),vmin=-0.5,vmax=3.5,transform=ccrs.PlateCarree())\n",
    "land = cartopy.feature.NaturalEarthFeature('physical', 'land', scale='110m', edgecolor='k', facecolor='white', linewidth=0.5)\n",
    "ax.add_feature(land)\n",
    "\n",
    "ax = fig.add_subplot(4,1,1, projection=ccrs.Robinson(central_longitude=305.0))\n",
    "ax.set_title('SP biomass-weighted nutrient limitation', fontsize=12)\n",
    "lon, lat, field = adjust_pop_grid(lons, lats,  most_lim_sp.where(~mask))\n",
    "pc=ax.pcolormesh(lon, lat, field, cmap=matplotlib.colormaps['viridis'].resampled(4),vmin=-0.5,vmax=3.5,transform=ccrs.PlateCarree())\n",
    "land = cartopy.feature.NaturalEarthFeature('physical', 'land', scale='110m', edgecolor='k', facecolor='white', linewidth=0.5)\n",
    "ax.add_feature(land)\n",
    "\n",
    "ax = fig.add_subplot(4,1,3, projection=ccrs.Robinson(central_longitude=305.0))\n",
    "ax.set_title('Cocco biomass-weighted nutrient limitation', fontsize=12)\n",
    "lon, lat, field = adjust_pop_grid(lons, lats,  most_lim_cocco.where(~mask))\n",
    "pc=ax.pcolormesh(lon, lat, field, cmap=matplotlib.colormaps['viridis'].resampled(4),vmin=-0.5,vmax=3.5,transform=ccrs.PlateCarree())\n",
    "land = cartopy.feature.NaturalEarthFeature('physical', 'land', scale='110m', edgecolor='k', facecolor='white', linewidth=0.5)\n",
    "ax.add_feature(land)\n",
    "\n",
    "ax = fig.add_subplot(4,1,4, projection=ccrs.Robinson(central_longitude=305.0))\n",
    "ax.set_title('Diaz biomass-weighted nutrient limitation', fontsize=12)\n",
    "lon, lat, field = adjust_pop_grid(lons, lats,  most_lim_diaz.where(~mask))\n",
    "pc=ax.pcolormesh(lon, lat, field, cmap=matplotlib.colormaps['viridis'].resampled(4),vmin=-0.5,vmax=3.5,transform=ccrs.PlateCarree())\n",
    "land = cartopy.feature.NaturalEarthFeature('physical', 'land', scale='110m', edgecolor='k', facecolor='white', linewidth=0.5)\n",
    "ax.add_feature(land)\n",
    "\n",
    "fig.subplots_adjust(right=0.8)\n",
    "cbar_ax = fig.add_axes([0.85, 0.15, 0.05, 0.7])\n",
    "cbar = fig.colorbar(pc, cax=cbar_ax,**colorbar_specs)\n",
    "cbar.ax.set_yticklabels(['P lim', 'Fe lim', 'N lim','SiO3/C lim']);"
   ]
  },
  {
   "cell_type": "markdown",
   "id": "85ba9b34-f432-4739-a369-57cee335c771",
   "metadata": {},
   "source": [
    "## Making monthly climatology maps"
   ]
  },
  {
   "cell_type": "markdown",
   "id": "72a87f66-e82a-48e0-b149-297992c21dc5",
   "metadata": {},
   "source": [
    "### Make a monthly climatology dataset\n",
    "A monthly climatology is a dataset where data from each month, including over different years, is averaged together. So for our dataset, the groups would include the average of all Januaries 2010-2019, all Februaries 2010-2019, and so on. This would usually be over a longer time period such as 30 or more years, but we use our shorter dataset so that it processes faster. This technique is helpful for looking at seasonal phenomena while averaging out year-to-year fluctuations."
   ]
  },
  {
   "cell_type": "code",
   "execution_count": null,
   "id": "1b82b46e-07e7-4e6b-8957-82383b4a3f73",
   "metadata": {},
   "outputs": [],
   "source": [
    "mon_ds = ds.copy()\n",
    "mon_ds = ds.groupby('time.month').mean('time')"
   ]
  },
  {
   "cell_type": "code",
   "execution_count": null,
   "id": "c092bad4-46da-4273-8a05-8b9d2d3712af",
   "metadata": {},
   "outputs": [],
   "source": [
    "limarray_sp=xr.concat((mon_ds.sp_P_lim_surf, mon_ds.sp_Fe_lim_surf,mon_ds.sp_N_lim_surf),dim='nutrient')\n",
    "limarray_diat=xr.concat((mon_ds.diat_P_lim_surf, mon_ds.diat_Fe_lim_surf, mon_ds.diat_N_lim_surf, mon_ds.diat_SiO3_lim_surf),dim='nutrient')\n",
    "limarray_diaz=xr.concat((mon_ds.diaz_P_lim_surf, mon_ds.diaz_Fe_lim_surf),dim='nutrient')\n",
    "limarray_cocco=xr.concat((mon_ds.cocco_P_lim_surf, mon_ds.cocco_Fe_lim_surf, mon_ds.cocco_N_lim_surf, mon_ds.cocco_C_lim_surf),dim='nutrient')\n",
    "\n",
    "most_lim_sp=limarray_sp.argmin(dim='nutrient', skipna=False)\n",
    "most_lim_diat=limarray_diat.argmin(dim='nutrient', skipna=False)\n",
    "most_lim_diaz=limarray_diaz.argmin(dim='nutrient', skipna=False)\n",
    "most_lim_cocco=limarray_cocco.argmin(dim='nutrient', skipna=False)\n",
    "mask = np.isnan(ds_year.sp_N_lim_surf.squeeze())"
   ]
  },
  {
   "cell_type": "code",
   "execution_count": null,
   "id": "a9285446-29f2-4d64-8b45-f7c5bf20a3bf",
   "metadata": {},
   "outputs": [],
   "source": [
    "fig = plt.figure(figsize=(12,23))\n",
    "\n",
    "month_list = [\"Jan\", \"Feb\", \"Mar\", \"Apr\", \"May\", \"Jun\", \"Jul\", \"Aug\", \"Sep\", \"Oct\", \"Nov\", \"Dec\"]\n",
    "\n",
    "for row in np.arange(1,13):\n",
    "    ts=row-1\n",
    "    \n",
    "    plot = row*3 - 2\n",
    "    \n",
    "    #row 1 Jan\n",
    "    ax = fig.add_subplot(12,3,plot, projection=ccrs.Robinson(central_longitude=305.0))\n",
    "    ax.set_title('Diat surface nutrient limitation', fontsize=12)\n",
    "    lon, lat, field = adjust_pop_grid(lons, lats,  most_lim_diat.isel(month=ts).where(~mask))\n",
    "    pc=ax.pcolormesh(lon, lat, field, cmap=matplotlib.colormaps['viridis'].resampled(4),vmin=-0.5,vmax=3.5,transform=ccrs.PlateCarree())\n",
    "    land = cartopy.feature.NaturalEarthFeature('physical', 'land', scale='110m', edgecolor='k', facecolor='white', linewidth=0.5)\n",
    "    ax.add_feature(land)\n",
    "    ax.set_ylabel(month_list[ts])\n",
    "    ax.set_yticks([]) # necessary to get ylabel to show up\n",
    "    colorbar_specs = {'ticks' : np.arange(0,4,1)}\n",
    "    \n",
    "    plot = row*3 - 1\n",
    "    ax = fig.add_subplot(12,3,plot, projection=ccrs.Robinson(central_longitude=305.0))\n",
    "    ax.set_title('SP surface nutrient limitation', fontsize=12)\n",
    "    lon, lat, field = adjust_pop_grid(lons, lats,  most_lim_sp.isel(month=ts).where(~mask))\n",
    "    pc=ax.pcolormesh(lon, lat, field, cmap=matplotlib.colormaps['viridis'].resampled(4),vmin=-0.5,vmax=3.5,transform=ccrs.PlateCarree())\n",
    "    land = cartopy.feature.NaturalEarthFeature('physical', 'land', scale='110m', edgecolor='k', facecolor='white', linewidth=0.5)\n",
    "    ax.add_feature(land)\n",
    "    colorbar_specs = {'ticks' : np.arange(0,4,1)}\n",
    "    \n",
    "    plot = row*3\n",
    "    ax = fig.add_subplot(12,3,plot, projection=ccrs.Robinson(central_longitude=305.0))\n",
    "    ax.set_title('Cocco surface nutrient limitation', fontsize=12)\n",
    "    lon, lat, field = adjust_pop_grid(lons, lats,  most_lim_cocco.isel(month=ts).where(~mask))\n",
    "    pc=ax.pcolormesh(lon, lat, field, cmap=matplotlib.colormaps['viridis'].resampled(4),vmin=-0.5,vmax=3.5,transform=ccrs.PlateCarree())\n",
    "    land = cartopy.feature.NaturalEarthFeature('physical', 'land', scale='110m', edgecolor='k', facecolor='white', linewidth=0.5)\n",
    "    ax.add_feature(land)\n",
    "    colorbar_specs = {'ticks' : np.arange(0,4,1)}\n",
    "\n",
    "fig.subplots_adjust(right=0.8)\n",
    "cbar_ax = fig.add_axes([0.85, 0.15, 0.05, 0.7])\n",
    "cbar = fig.colorbar(pc, cax=cbar_ax,**colorbar_specs)\n",
    "cbar.ax.set_yticklabels(['P lim', 'Fe lim', 'N lim','SiO3/C lim']);"
   ]
  },
  {
   "cell_type": "markdown",
   "id": "e71e44ee-dbd4-4d43-ad27-e039f0938cad",
   "metadata": {},
   "source": [
    "And close the Dask cluster we spun up at the beginning."
   ]
  },
  {
   "cell_type": "code",
   "execution_count": null,
   "id": "bb95b9d7-4197-4433-be93-e0dbb43845b0",
   "metadata": {},
   "outputs": [],
   "source": [
    "cluster.close()"
   ]
  },
  {
   "cell_type": "markdown",
   "id": "1564e9cf-2a13-43f4-9bab-51b14fbe18cb",
   "metadata": {},
   "source": [
    "---"
   ]
  },
  {
   "cell_type": "markdown",
   "id": "96c3a712-92e2-47b0-b3e5-c07790b88d95",
   "metadata": {
    "jp-MarkdownHeadingCollapsed": true
   },
   "source": [
    "## Summary\n",
    "You've learned how to evaluate phytoplankton nutrient limitation."
   ]
  },
  {
   "cell_type": "markdown",
   "id": "3c213bf6-f526-4ad8-9e7e-59caf4e2c081",
   "metadata": {},
   "source": [
    "## Resources and references\n",
    "- [Sarmiento and Gruber Chapter 4: Organic Matter Production](https://doi.org/10.2307/j.ctt3fgxqx.7) (see Limiting Nutrient in Section 4.2)\n",
    "- [Redfield et al., 1963](https://books.google.com/books?id=LeMvduUHtxQC&pg=PA26&source=gbs_toc_r&cad=1)"
   ]
  }
 ],
 "metadata": {
  "language_info": {
   "name": "python"
  }
 },
 "nbformat": 4,
 "nbformat_minor": 5
}
