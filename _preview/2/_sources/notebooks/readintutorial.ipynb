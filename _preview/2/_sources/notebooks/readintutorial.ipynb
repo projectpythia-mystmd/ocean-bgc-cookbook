{
 "cells": [
  {
   "cell_type": "markdown",
   "id": "dca900b4-b5ef-479d-847c-2c43bcf8e497",
   "metadata": {},
   "source": [
    "# Reading in CESM output"
   ]
  },
  {
   "cell_type": "markdown",
   "id": "bd5d50d2-2af2-4f50-9935-bda6ddebe7b2",
   "metadata": {},
   "source": [
    "---"
   ]
  },
  {
   "cell_type": "markdown",
   "id": "7a314492-07c4-49c2-b71c-5b76936ad978",
   "metadata": {},
   "source": [
    "## Overview\n",
    "Output from one run of CESM is the main dataset that we'll be looking at in this cookbook. Let's learn how to read it in. And note that this is just one way that CESM output can look. This run has been post-processed, so the data are in the form of \"time-series\" files, where each file stores one variable across the full timespan of the run. Before this processing, CESM actually outputs data in the form of \"history\" files instead, where each file contains all variables over a shorter time-slice. We won't dive into the specifics of CESM data processing here, but this [Jupyter book](https://ncar.github.io/CESM-Tutorial/notebooks/diagnostics/additional/postprocessing.html) from the CESM tutorial has some more info!"
   ]
  },
  {
   "cell_type": "markdown",
   "id": "78d6f882-f573-4e16-bf61-1d787662ddb7",
   "metadata": {},
   "source": [
    "## Prerequisites\n",
    "\n",
    "| Concepts | Importance | Notes |\n",
    "| --- | --- | --- |\n",
    "| [Intro to Xarray](https://foundations.projectpythia.org/core/xarray.html) | Necessary | |\n",
    "\n",
    "\n",
    "- **Time to learn**: 5 min\n"
   ]
  },
  {
   "cell_type": "markdown",
   "id": "cf6f3a40-cbcb-43b0-b596-3f81deed4cba",
   "metadata": {},
   "source": [
    "---"
   ]
  },
  {
   "cell_type": "markdown",
   "id": "4c7d47c8-1be7-4654-85dc-d88cf8979333",
   "metadata": {},
   "source": [
    "## Imports"
   ]
  },
  {
   "cell_type": "code",
   "execution_count": null,
   "id": "f7604cb4-59ec-4068-adeb-b79aadb50db7",
   "metadata": {},
   "outputs": [],
   "source": [
    "import xarray as xr\n",
    "import glob\n",
    "import s3fs\n",
    "import netCDF4"
   ]
  },
  {
   "cell_type": "markdown",
   "id": "69df2c27-18d0-47d5-86da-e231e39ef789",
   "metadata": {},
   "source": [
    "## Loading our data into xarray\n",
    "Our data is stored in the cloud on Jetstream2. We load in each file path, then use xarray's `open_mfdataset()` function to load all the files into an xarray Dataset, dropping a few variables whose coordinates don't fit nicely."
   ]
  },
  {
   "cell_type": "code",
   "execution_count": null,
   "id": "8f3e9b18-8a51-48b3-bf3c-824641624a69",
   "metadata": {},
   "outputs": [],
   "source": [
    "jetstream_url = 'https://js2.jetstream-cloud.org:8001/'\n",
    "\n",
    "s3 = s3fs.S3FileSystem(anon=True, client_kwargs=dict(endpoint_url=jetstream_url))\n",
    "\n",
    "# Generate a list of all files in CESM folder\n",
    "s3path = 's3://pythia/ocean-bgc/cesm/g.e22.GOMIPECOIAF_JRA-1p4-2018.TL319_g17.4p2z.002branch/ocn/proc/tseries/month_1/*'\n",
    "remote_files = s3.glob(s3path)\n",
    "\n",
    "# Open all files from folder\n",
    "fileset = [s3.open(file) for file in remote_files]\n",
    "\n",
    "# Open with xarray\n",
    "ds = xr.open_mfdataset(fileset, data_vars=\"minimal\", coords='minimal', compat=\"override\", parallel=True,\n",
    "                       drop_variables=[\"transport_components\", \"transport_regions\", 'moc_components'], decode_times=True)\n"
   ]
  },
  {
   "cell_type": "code",
   "execution_count": null,
   "id": "c9de1801-7067-44ba-95ed-f57848be383d",
   "metadata": {},
   "outputs": [],
   "source": [
    "ds"
   ]
  },
  {
   "cell_type": "markdown",
   "id": "4f2e226f-12e4-4b9b-af70-8434b959ae66",
   "metadata": {},
   "source": [
    "Looks good!"
   ]
  },
  {
   "cell_type": "markdown",
   "id": "72a5c68e-f41a-4bdf-b7ad-69b5e8c781a0",
   "metadata": {},
   "source": [
    "---"
   ]
  },
  {
   "cell_type": "markdown",
   "id": "122fdeac-d2dc-4178-a4e7-48fa8c8d4512",
   "metadata": {},
   "source": [
    "## Summary\n",
    "You've learned how to read in CESM output, which we'll be using for all the following notebooks in this cookbook.\n"
   ]
  },
  {
   "cell_type": "markdown",
   "id": "659a8506-8c06-4483-adab-130f63afbef7",
   "metadata": {},
   "source": [
    "## Resources and references\n",
    "- [About CESM](https://www.cesm.ucar.edu/)\n",
    "- [CESM Tutorial 2023 Jupyter Book](https://ncar.github.io/CESM-Tutorial/README.html#)"
   ]
  }
 ],
 "metadata": {
  "language_info": {
   "name": "python"
  }
 },
 "nbformat": 4,
 "nbformat_minor": 5
}
