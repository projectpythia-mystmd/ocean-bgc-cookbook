{
 "cells": [
  {
   "cell_type": "markdown",
   "id": "b32e55d3-d037-40b9-96ac-b2ff03536e23",
   "metadata": {},
   "source": [
    "# Zooplankton biomass\n",
    "<div>\n",
    "<img src=\"https://img.pagecloud.com/dZrHVa1h6KM_DQHq7w-SP_Lk7oo=/462x0/filters:no_upscale()/scientific-illustrations-by-kristen/images/copepod-n260e.png\" width=\"300\"/>\n",
    "</div>\n",
    "\n",
    "A copepod, a type of zooplankton. Art credit: [Kristen Krumhardt](https://kristenkrumhardtart.com/)"
   ]
  },
  {
   "cell_type": "markdown",
   "id": "928caa8f-1629-4ee4-8b52-1a7e7589f014",
   "metadata": {},
   "source": [
    "---"
   ]
  },
  {
   "cell_type": "markdown",
   "id": "5afa929d-24e0-4654-a0a9-1a7c907677c9",
   "metadata": {
    "editable": true,
    "slideshow": {
     "slide_type": ""
    },
    "tags": []
   },
   "source": [
    "## Overview\n",
    "Zooplankton are tiny oceanic animals, making up the next step up after phytoplankton in the food web. Here we evaluate modeled zooplankton biomass and compare it to observational data.\n",
    "\n",
    "1. General setup\n",
    "2. Subsetting\n",
    "3. Processing - long-term mean\n",
    "4. Mapping zooplankton biomass at the surface\n",
    "5. Comparing mesozooplankton biomass to observations\n",
    "6. Making monthly climatology maps to compare to observations\n",
    "   "
   ]
  },
  {
   "cell_type": "markdown",
   "id": "6ba37d65-f717-49c8-b4b6-08e785b386b8",
   "metadata": {},
   "source": [
    "## Prerequisites\n",
    "\n",
    "| Concepts | Importance | Notes |\n",
    "| --- | --- | --- |\n",
    "| [Matplotlib](https://foundations.projectpythia.org/core/matplotlib.html) | Necessary | |\n",
    "| [Intro to Cartopy](https://foundations.projectpythia.org/core/cartopy/cartopy.html) | Necessary | |\n",
    "| [Dask Cookbook](https://projectpythia.org/dask-cookbook/README.html) | Helpful | |\n",
    "| [Intro to Xarray](https://foundations.projectpythia.org/core/xarray.html) | Helpful | |\n",
    "\n",
    "- **Time to learn**: 30 min\n"
   ]
  },
  {
   "cell_type": "markdown",
   "id": "47529f12-81a0-4a46-8935-9a3ae569640b",
   "metadata": {},
   "source": [
    "---"
   ]
  },
  {
   "cell_type": "markdown",
   "id": "f3b67b1f-f0a7-4788-82c3-0396fa1eaaed",
   "metadata": {},
   "source": [
    "## Imports"
   ]
  },
  {
   "cell_type": "code",
   "execution_count": null,
   "id": "1ca0449d-c26d-4034-9fcf-c9c544a9d7b2",
   "metadata": {},
   "outputs": [],
   "source": [
    "import xarray as xr\n",
    "import glob\n",
    "import numpy as np\n",
    "import matplotlib.pyplot as plt\n",
    "import cartopy\n",
    "import cartopy.crs as ccrs\n",
    "import pop_tools\n",
    "from dask.distributed import LocalCluster\n",
    "import s3fs\n",
    "import netCDF4\n",
    "\n",
    "from module import adjust_pop_grid"
   ]
  },
  {
   "cell_type": "markdown",
   "id": "1261beab-921a-4031-9181-14e8bdbcd82b",
   "metadata": {},
   "source": [
    "## General setup (see intro notebooks for explanations)"
   ]
  },
  {
   "cell_type": "markdown",
   "id": "6371551e-3cd1-40a9-88c6-b776a1c2e3b1",
   "metadata": {},
   "source": [
    "### Connect to cluster"
   ]
  },
  {
   "cell_type": "code",
   "execution_count": null,
   "id": "c523e3ce-5c4e-4be0-b137-85ea74a26840",
   "metadata": {},
   "outputs": [],
   "source": [
    "cluster = LocalCluster()\n",
    "client = cluster.get_client()"
   ]
  },
  {
   "cell_type": "markdown",
   "id": "5ab06e84-2b8d-48fe-a698-a126f6d370cf",
   "metadata": {},
   "source": [
    "### Bring in POP grid utilities"
   ]
  },
  {
   "cell_type": "code",
   "execution_count": null,
   "id": "387b3b53-1cb1-43e5-904c-608efa6d4ac5",
   "metadata": {},
   "outputs": [],
   "source": [
    "ds_grid = pop_tools.get_grid('POP_gx1v7')\n",
    "lons = ds_grid.TLONG\n",
    "lats = ds_grid.TLAT\n",
    "depths = ds_grid.z_t * 0.01"
   ]
  },
  {
   "cell_type": "markdown",
   "id": "93d2f7d6-f86d-4e65-9e98-b6095f903271",
   "metadata": {},
   "source": [
    "### Load the data"
   ]
  },
  {
   "cell_type": "code",
   "execution_count": null,
   "id": "37fb64e2-f0a3-4951-a480-7092b4ab04cd",
   "metadata": {},
   "outputs": [],
   "source": [
    "jetstream_url = 'https://js2.jetstream-cloud.org:8001/'\n",
    "\n",
    "s3 = s3fs.S3FileSystem(anon=True, client_kwargs=dict(endpoint_url=jetstream_url))\n",
    "\n",
    "# Generate a list of all files in CESM folder\n",
    "s3path = 's3://pythia/ocean-bgc/cesm/g.e22.GOMIPECOIAF_JRA-1p4-2018.TL319_g17.4p2z.002branch/ocn/proc/tseries/month_1/*'\n",
    "remote_files = s3.glob(s3path)\n",
    "\n",
    "# Open all files from folder\n",
    "fileset = [s3.open(file) for file in remote_files]\n",
    "\n",
    "# Open with xarray\n",
    "ds = xr.open_mfdataset(fileset, data_vars=\"minimal\", coords='minimal', compat=\"override\", parallel=True,\n",
    "                       drop_variables=[\"transport_components\", \"transport_regions\", 'moc_components'], decode_times=True)\n",
    "\n",
    "ds"
   ]
  },
  {
   "cell_type": "markdown",
   "id": "50be6930-f48e-4d7a-9828-7b2766bf9bf2",
   "metadata": {},
   "source": [
    "## Subsetting"
   ]
  },
  {
   "cell_type": "code",
   "execution_count": null,
   "id": "ea5e9150-4e80-45a2-a5b6-a8b6a474cf72",
   "metadata": {},
   "outputs": [],
   "source": [
    "variables =['mesozooC', 'microzooC']"
   ]
  },
  {
   "cell_type": "code",
   "execution_count": null,
   "id": "a63a74ea-ac56-4034-aeaa-f648909fe59a",
   "metadata": {},
   "outputs": [],
   "source": [
    "keep_vars=['z_t','z_t_150m','dz','time_bound','time','TAREA','TLAT','TLONG'] + variables\n",
    "ds = ds.drop_vars([v for v in ds.variables if v not in keep_vars])"
   ]
  },
  {
   "cell_type": "markdown",
   "id": "febdf9c0-a98c-49fa-b224-bbe085895384",
   "metadata": {},
   "source": [
    "## Processing - long-term mean"
   ]
  },
  {
   "cell_type": "markdown",
   "id": "65b8fc08-c579-4353-bacf-af1b4f11d33d",
   "metadata": {},
   "source": [
    "Pull in the function we defined in the nutrients notebook..."
   ]
  },
  {
   "cell_type": "code",
   "execution_count": null,
   "id": "5ee51015-79b5-4953-924f-ff788cc69d99",
   "metadata": {},
   "outputs": [],
   "source": [
    "def year_mean(ds):\n",
    "    \"\"\"\n",
    "    Source: https://ncar.github.io/esds/posts/2021/yearly-averages-xarray/\n",
    "    \"\"\"\n",
    "    \n",
    "    # Make a DataArray with the number of days in each month, size = len(time)\n",
    "    month_length = ds.time.dt.days_in_month\n",
    "\n",
    "    # Calculate the weights by grouping by 'time.year'\n",
    "    weights = (\n",
    "        month_length.groupby(\"time.year\") / month_length.groupby(\"time.year\").sum()\n",
    "    )\n",
    "\n",
    "    # Test that the sum of the weights for each year is 1.0\n",
    "    np.testing.assert_allclose(weights.groupby(\"time.year\").sum().values, np.ones((len(ds.groupby(\"time.year\")), )))\n",
    "\n",
    "    # Calculate the weighted average\n",
    "    return (ds * weights).groupby(\"time.year\").sum(dim=\"time\")"
   ]
  },
  {
   "cell_type": "code",
   "execution_count": null,
   "id": "ec7887be-7aea-47c8-be19-4bc681d2b71a",
   "metadata": {},
   "outputs": [],
   "source": [
    "# Take the long-term mean of our data set, processing years and months separately\n",
    "\n",
    "ds_annual = year_mean(ds).mean(\"year\")"
   ]
  },
  {
   "cell_type": "markdown",
   "id": "d18b05d1-034e-4671-b7c1-055dfb4c7828",
   "metadata": {},
   "source": [
    "## Plot mesozooplankton and microzooplankton biomass at the surface"
   ]
  },
  {
   "cell_type": "code",
   "execution_count": null,
   "id": "bff8e04c-c929-4159-8c04-208cad7285d6",
   "metadata": {},
   "outputs": [],
   "source": [
    "fig = plt.figure(figsize=(8,5))\n",
    "\n",
    "ax = fig.add_subplot(2,1,1, projection=ccrs.Robinson(central_longitude=305.0))\n",
    "ax.set_title('microzooC at surface', fontsize=12)\n",
    "lon, lat, field = adjust_pop_grid(lons, lats,  ds_annual.microzooC.isel(z_t_150m=0))\n",
    "pc=ax.pcolormesh(lon, lat, field, cmap='Blues',vmin=0,vmax=2,transform=ccrs.PlateCarree())\n",
    "cbar1 = fig.colorbar(pc, ax=ax,extend='max',label='microzooC (mmol m$^{-3}$)')\n",
    "land = cartopy.feature.NaturalEarthFeature('physical', 'land', scale='110m', edgecolor='k', facecolor='white', linewidth=0.5)\n",
    "ax.add_feature(land)\n",
    "\n",
    "\n",
    "ax = fig.add_subplot(2,1,2, projection=ccrs.Robinson(central_longitude=305.0))\n",
    "ax.set_title('mesozooC at surface', fontsize=12)\n",
    "lon, lat, field = adjust_pop_grid(lons, lats,  ds_annual.mesozooC.isel(z_t_150m=0))\n",
    "pc=ax.pcolormesh(lon, lat, field, cmap='Oranges',vmin=0,vmax=4,transform=ccrs.PlateCarree())\n",
    "cbar1 = fig.colorbar(pc, ax=ax,extend='max',label='mesozooC (mmol m$^{-3}$)')\n",
    "land = cartopy.feature.NaturalEarthFeature('physical', 'land', scale='110m', edgecolor='k', facecolor='white', linewidth=0.5)\n",
    "ax.add_feature(land)"
   ]
  },
  {
   "cell_type": "markdown",
   "id": "745e6a54-9175-48c4-8a9b-f52c2345b593",
   "metadata": {},
   "source": [
    "## Compare mesozooplankton biomass to COPEPOD database\n",
    "\n",
    "We use data compiled through the COPEPOD project [(Moriarty & O'Brien, 2013)](https://doi.org/10.5194/essd-5-45-2013). This data has been pre-processed, but the raw data is available on the [COPEPOD website](https://www.st.nmfs.noaa.gov/copepod/about/databases.html)."
   ]
  },
  {
   "cell_type": "markdown",
   "id": "b59c9e72-4b8f-4e98-8724-a206416eacf0",
   "metadata": {},
   "source": [
    "### Read in COPEPOD data"
   ]
  },
  {
   "cell_type": "code",
   "execution_count": null,
   "id": "12ebf98e-ecc4-4e7a-a41d-0acb21a21e3e",
   "metadata": {},
   "outputs": [],
   "source": [
    "copepod_obs_path = 's3://pythia/ocean-bgc/obs/copepod-2012__cmass-m00-qtr.zarr'\n",
    "\n",
    "copepod_obs = s3fs.S3Map(root=copepod_obs_path, s3=s3)\n",
    "\n",
    "ds_copepod = xr.open_dataset(copepod_obs, engine=\"zarr\")\n",
    "\n",
    "### converting grams to moles\n",
    "ds_copepod['copepod_C']=ds_copepod.copepod_C/12.011"
   ]
  },
  {
   "cell_type": "code",
   "execution_count": null,
   "id": "0b6471bf-0d65-4cfb-9ce9-85cfcbeb3934",
   "metadata": {},
   "outputs": [],
   "source": [
    "ds_copepod"
   ]
  },
  {
   "cell_type": "markdown",
   "id": "3304c95d-9e96-403f-ac97-5450d2e8b0ab",
   "metadata": {},
   "source": [
    "### Plot"
   ]
  },
  {
   "cell_type": "code",
   "execution_count": null,
   "id": "8f2f80dd-b738-437c-8ff7-1c6dc7423b74",
   "metadata": {},
   "outputs": [],
   "source": [
    "fig = plt.figure(figsize=(12,3))\n",
    "\n",
    "ax = fig.add_subplot(1,2,1, projection=ccrs.Robinson(central_longitude=305.0))\n",
    "ax.set_title('COPEPOD dataset', fontsize=12)\n",
    "pc=ax.pcolormesh(ds_copepod.lon, ds_copepod.lat, ds_copepod.copepod_C, cmap='Reds',vmin=0,vmax=2,transform=ccrs.PlateCarree())\n",
    "land = cartopy.feature.NaturalEarthFeature('physical', 'land', scale='110m', edgecolor='k', facecolor='white', linewidth=0.5)\n",
    "ax.add_feature(land)\n",
    "\n",
    "ax = fig.add_subplot(1,2,2, projection=ccrs.Robinson(central_longitude=305.0))\n",
    "ax.set_title('CESM ${\\it Mesozooplankton}$ biomass', fontsize=12)\n",
    "lon, lat, field = adjust_pop_grid(lons, lats, ds_annual.mesozooC.mean(dim='z_t_150m'))\n",
    "pc=ax.pcolormesh(lon, lat, field, cmap='Reds',vmin=0,vmax=2,transform=ccrs.PlateCarree())\n",
    "land = cartopy.feature.NaturalEarthFeature('physical', 'land', scale='110m', edgecolor='k', facecolor='white', linewidth=0.5)\n",
    "ax.add_feature(land)\n",
    "\n",
    "fig.subplots_adjust(right=0.8)\n",
    "cbar_ax = fig.add_axes([0.85, 0.15, 0.02, 0.7])\n",
    "fig.colorbar(pc, cax=cbar_ax,extend='max', label='top 150m/200m mean (mmol m$^{-3}$)');"
   ]
  },
  {
   "cell_type": "markdown",
   "id": "0a4c0e5d-aaa7-446a-81e8-c1ae3f60d94e",
   "metadata": {},
   "source": [
    "## Making monthly climatology maps to compare to observations"
   ]
  },
  {
   "cell_type": "markdown",
   "id": "5085ee6d-457c-46dd-9beb-5b8f08d46473",
   "metadata": {},
   "source": [
    "### Compare to observation-based GLMM (Generalized Linear Mixed Model) of global mesozooplankton biomass climatology \n",
    "This data is from [Heneghan et al., 2020](https://doi.org/10.1016/j.ecolmodel.2020.109265), which includes the COPEPOD dataset we used previously as well as additional observations, with some pre-processing."
   ]
  },
  {
   "cell_type": "code",
   "execution_count": null,
   "id": "4ce3182e-deaa-4594-bb84-2eb8f7874fb8",
   "metadata": {},
   "outputs": [],
   "source": [
    "mesozoo_obs_path = 'data/obsglmm_zmeso_vint_200m_monthly_climatology.nc'\n",
    "\n",
    "ds_copepod_clim = xr.open_dataset(mesozoo_obs_path)\n",
    "ds_copepod_clim.zmeso200.attrs['units'] = 'mgC m-2'\n",
    "\n",
    "months = ['Jan','Feb','Mar','Apr','May','Jun','Jul','Aug','Sep','Oct','Nov','Dec']"
   ]
  },
  {
   "cell_type": "markdown",
   "id": "a8982df2-5cb7-47e1-a48f-8f6041e9c0d3",
   "metadata": {},
   "source": [
    "### Make our CESM data into a monthly climatology"
   ]
  },
  {
   "cell_type": "code",
   "execution_count": null,
   "id": "950e227c-396c-4217-86d0-d31b0e6275e8",
   "metadata": {},
   "outputs": [],
   "source": [
    "mon_ds = ds.copy()\n",
    "mon_ds = ds.groupby('time.month').mean('time')"
   ]
  },
  {
   "cell_type": "code",
   "execution_count": null,
   "id": "94bda07d-0f2d-4940-9e7a-3fecb1d9aefe",
   "metadata": {},
   "outputs": [],
   "source": [
    "### depth integrate and convert model to mg C/m2\n",
    "mon_ds['mesozooC_zint'] = ((mon_ds.mesozooC) * 10.).sum(dim='z_t_150m') #in mmol/m2\n",
    "mon_ds['mesozooC_zint'] = mon_ds['mesozooC_zint'] * 12.011 #convert to mgC/m2\n",
    "mon_ds['mesozooC_zint'].attrs['units'] = 'mgC m-2'"
   ]
  },
  {
   "cell_type": "markdown",
   "id": "9b1c6f93-4ebe-482b-8e50-0bd268881263",
   "metadata": {},
   "source": [
    "### Plot"
   ]
  },
  {
   "cell_type": "code",
   "execution_count": null,
   "id": "6e28f6a9-7db6-4db0-860b-e64a6058911f",
   "metadata": {},
   "outputs": [],
   "source": [
    "fig = plt.figure(figsize=(5,18))\n",
    "\n",
    "for row in np.arange(1,13):\n",
    "    \n",
    "    ts=row-1\n",
    "    \n",
    "    plot = row*2 - 1\n",
    "    ax = fig.add_subplot(12,2,plot, projection=ccrs.Robinson(central_longitude=305.0))\n",
    "    ax.set_title(months[ts]+' obs', fontsize=12)\n",
    "    pc=ax.pcolormesh(ds_copepod_clim.Lon, ds_copepod_clim.Lat, ds_copepod_clim.zmeso200.isel(month=ts), \n",
    "                     cmap='Reds',vmin=0,vmax=4000,transform=ccrs.PlateCarree())\n",
    "    land = cartopy.feature.NaturalEarthFeature('physical', 'land', scale='110m', edgecolor='k', facecolor='white', linewidth=0.5)\n",
    "    ax.add_feature(land)\n",
    "    \n",
    "    plot = row*2\n",
    "    ax = fig.add_subplot(12,2,plot, projection=ccrs.Robinson(central_longitude=305.0))\n",
    "    ax.set_title(months[ts]+' CESM', fontsize=12)\n",
    "    tmp = mon_ds.mesozooC_zint.isel(month=ts)\n",
    "    lon, lat, field = adjust_pop_grid(lons, lats,  tmp)\n",
    "    pc=ax.pcolormesh(lon, lat, field, cmap='Reds',vmin=0,vmax=4000,transform=ccrs.PlateCarree())\n",
    "    land = cartopy.feature.NaturalEarthFeature('physical', 'land', scale='110m', edgecolor='k', facecolor='white', linewidth=0.5)\n",
    "    ax.add_feature(land)\n",
    "\n",
    "cbar_ax = fig.add_axes([0.92, 0.15, 0.03, 0.7])\n",
    "fig.colorbar(pc, cax=cbar_ax,extend='max', label='Depth-integrated copepod biomass (mg m$^{-2}$)');"
   ]
  },
  {
   "cell_type": "markdown",
   "id": "03fbe3b5-033d-4f90-a193-e86c16910878",
   "metadata": {},
   "source": [
    "And close the Dask cluster we spun up at the beginning."
   ]
  },
  {
   "cell_type": "code",
   "execution_count": null,
   "id": "112a3ae1-7b90-4d35-babd-30f004a80ddd",
   "metadata": {},
   "outputs": [],
   "source": [
    "cluster.close()"
   ]
  },
  {
   "cell_type": "markdown",
   "id": "a2e24edb-bc1a-46d1-89cc-19bea5d91bd9",
   "metadata": {},
   "source": [
    "---"
   ]
  },
  {
   "cell_type": "markdown",
   "id": "d1851686-8ffa-4a47-8b60-b717bebca315",
   "metadata": {
    "jp-MarkdownHeadingCollapsed": true
   },
   "source": [
    "## Summary\n",
    "You've learned how to evaluate zooplankton biomass modeled by CESM-MARBL and compare it to observations."
   ]
  },
  {
   "cell_type": "markdown",
   "id": "7e89ef1f-6c3c-4fe7-8c76-35098c50fec7",
   "metadata": {},
   "source": [
    "## Resources and references\n",
    "- [Moriarty & O'Brien, 2013](https://doi.org/10.5194/essd-5-45-2013)\n",
    "- [Petrik et al., 2022](https://doi.org/10.1029/2022GB007367)\n",
    "- [Heneghan et al., 2020](https://doi.org/10.1016/j.ecolmodel.2020.109265)"
   ]
  }
 ],
 "metadata": {
  "language_info": {
   "name": "python"
  }
 },
 "nbformat": 4,
 "nbformat_minor": 5
}
